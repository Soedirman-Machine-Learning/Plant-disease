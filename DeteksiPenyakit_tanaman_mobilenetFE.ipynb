{
  "nbformat": 4,
  "nbformat_minor": 0,
  "metadata": {
    "colab": {
      "name": "DeteksiPenyakit_tanaman_mobilenetFE.ipynb",
      "provenance": [],
      "collapsed_sections": [],
      "toc_visible": true,
      "machine_shape": "hm",
      "include_colab_link": true
    },
    "kernelspec": {
      "name": "python3",
      "display_name": "Python 3"
    },
    "accelerator": "GPU"
  },
  "cells": [
    {
      "cell_type": "markdown",
      "metadata": {
        "id": "view-in-github",
        "colab_type": "text"
      },
      "source": [
        "<a href=\"https://colab.research.google.com/github/Soedirman-Machine-Learning/Plant-disease/blob/master/DeteksiPenyakit_tanaman_mobilenetFE.ipynb\" target=\"_parent\"><img src=\"https://colab.research.google.com/assets/colab-badge.svg\" alt=\"Open In Colab\"/></a>"
      ]
    },
    {
      "cell_type": "markdown",
      "metadata": {
        "id": "x6JoE4rdE9ae",
        "colab_type": "text"
      },
      "source": [
        "# **Identfikasi Penyakit Tanaman Pada Daun Tomat dan Daun Singkong**"
      ]
    },
    {
      "cell_type": "markdown",
      "metadata": {
        "id": "hxlu9J0UFEbb",
        "colab_type": "text"
      },
      "source": [
        "### Melatih Model Diagnosis Penyakit Tumbuhan dengan Dataset"
      ]
    },
    {
      "cell_type": "code",
      "metadata": {
        "id": "vv_CFDFPE2BJ",
        "colab_type": "code",
        "colab": {
          "base_uri": "https://localhost:8080/",
          "height": 52
        },
        "outputId": "e41224ea-5d47-4936-f2e7-78c5362527ef"
      },
      "source": [
        "from __future__ import absolute_import, division, print_function, unicode_literals\n",
        "\n",
        "try:\n",
        "  # The %tensorflow_version magic only works in colab.\n",
        "  %tensorflow_version 2.x\n",
        "except Exception:\n",
        "  pass\n",
        "import numpy as np \n",
        "import math, os, sys\n",
        "import itertools\n",
        "\n",
        "import matplotlib.pyplot as plt\n",
        "plt.style.use('default')\n",
        "from scipy import ndimage\n",
        "\n",
        "from skimage import measure, morphology\n",
        "from skimage.io import imsave, imread\n",
        "from skimage.filters import threshold_otsu\n",
        "from skimage.transform import resize\n",
        "\n",
        "import tensorflow as tf\n",
        "from sklearn import svm, datasets\n",
        "from sklearn.metrics import confusion_matrix\n",
        "import pandas as pd\n",
        "\n",
        "import keras\n",
        "from keras import backend as K\n",
        "from keras.models import Sequential\n",
        "from keras import layers\n",
        "from keras.utils.np_utils import to_categorical\n",
        "\n",
        "from sklearn.model_selection import train_test_split"
      ],
      "execution_count": 1,
      "outputs": [
        {
          "output_type": "stream",
          "text": [
            "TensorFlow 2.x selected.\n"
          ],
          "name": "stdout"
        },
        {
          "output_type": "stream",
          "text": [
            "Using TensorFlow backend.\n"
          ],
          "name": "stderr"
        }
      ]
    },
    {
      "cell_type": "markdown",
      "metadata": {
        "id": "r9hD24Q7uaMn",
        "colab_type": "text"
      },
      "source": [
        "# **Tahap Persiapan**"
      ]
    },
    {
      "cell_type": "markdown",
      "metadata": {
        "id": "vIOQbP-sZsa8",
        "colab_type": "text"
      },
      "source": [
        "###Pengambilan dataset"
      ]
    },
    {
      "cell_type": "code",
      "metadata": {
        "id": "f_aICNeDuobz",
        "colab_type": "code",
        "colab": {}
      },
      "source": [
        "!apt-get install subversion > /dev/null\n",
        "\n",
        "!svn export https://github.com/spMohanty/PlantVillage-Dataset/trunk/raw/color/Tomato___Bacterial_spot image/Tomato___Bacterial_spot　>  /dev/null\n",
        "!svn export https://github.com/spMohanty/PlantVillage-Dataset/trunk/raw/color/Tomato___Early_blight image/Tomato___Early_blight　>  /dev/null\n",
        "!svn export https://github.com/spMohanty/PlantVillage-Dataset/trunk/raw/color/Tomato___Late_blight image/Tomato___Late_blight　>  /dev/null\n",
        "!svn export https://github.com/spMohanty/PlantVillage-Dataset/trunk/raw/color/Tomato___Septoria_leaf_spot image/Tomato___Septoria_leaf_spot　>  /dev/null\n",
        "!svn export https://github.com/spMohanty/PlantVillage-Dataset/trunk/raw/color/Tomato___Target_Spot image/Tomato___Target_Spot　>  /dev/null\n",
        "!svn export https://github.com/spMohanty/PlantVillage-Dataset/trunk/raw/color/Tomato___healthy image/Tomato___healthy　>  /dev/null\n",
        "!svn export https://github.com/spMohanty/PlantVillage-Dataset/trunk/raw/color/Tomato___Tomato_mosaic_virus image/Tomato___mosaic_virus >  /dev/null\n",
        "!svn export https://github.com/spMohanty/PlantVillage-Dataset/trunk/raw/color/Tomato___Spider_mites%20Two-spotted_spider_mite image/Tomato___Spider_mites_20Two-spotted_spider_mite >  /dev/null\n",
        "!svn export https://github.com/spMohanty/PlantVillage-Dataset/trunk/raw/color/Tomato___Leaf_Mold image/Tomato___Leaf_Mold >  /dev/null\n",
        "!svn export https://github.com/spMohanty/PlantVillage-Dataset/trunk/raw/color/Tomato___Tomato_Yellow_Leaf_Curl_Virus image/Tomato___Yellow_Leaf_Curl_Virus >  /dev/null\n",
        "!svn export https://github.com/icassava/fgvcx-icassava/trunk/data/train/cbb image/Cassava___cbb > /dev/null\n",
        "!svn export https://github.com/icassava/fgvcx-icassava/trunk/data/train/cbsd image/Cassava___cbsd > /dev/null\n",
        "!svn export https://github.com/icassava/fgvcx-icassava/trunk/data/train/cgm image/Cassava___cgm > /dev/null\n",
        "!svn export https://github.com/icassava/fgvcx-icassava/trunk/data/train/cmd image/Cassava___cmd > /dev/null\n",
        "!svn export https://github.com/icassava/fgvcx-icassava/trunk/data/train/healthy image/Cassava___healthy > /dev/null"
      ],
      "execution_count": 0,
      "outputs": []
    },
    {
      "cell_type": "code",
      "metadata": {
        "id": "W_oxMl_MLoQw",
        "colab_type": "code",
        "outputId": "dce80871-7d6d-48d4-d5b4-ba44ae117772",
        "colab": {
          "base_uri": "https://localhost:8080/",
          "height": 156
        }
      },
      "source": [
        "#Perintah di bawah ini untuk melihat list bagian dari file yang sudah diunduh dari Github\n",
        "!ls image"
      ],
      "execution_count": 3,
      "outputs": [
        {
          "output_type": "stream",
          "text": [
            "Cassava___cbb\t\t   Tomato___Late_blight　\n",
            "Cassava___cbsd\t\t   Tomato___Leaf_Mold\n",
            "Cassava___cgm\t\t   Tomato___mosaic_virus\n",
            "Cassava___cmd\t\t   Tomato___Septoria_leaf_spot　\n",
            "Cassava___healthy\t   Tomato___Spider_mites_20Two-spotted_spider_mite\n",
            "Tomato___Bacterial_spot　  Tomato___Target_Spot　\n",
            "Tomato___Early_blight　    Tomato___Yellow_Leaf_Curl_Virus\n",
            "Tomato___healthy　\n"
          ],
          "name": "stdout"
        }
      ]
    },
    {
      "cell_type": "code",
      "metadata": {
        "id": "iHNV81ptRQD1",
        "colab_type": "code",
        "outputId": "e9dbcf58-c3c9-49d5-9c6c-c9fe476b2209",
        "colab": {
          "base_uri": "https://localhost:8080/",
          "height": 104
        }
      },
      "source": [
        "IMAGE_SIZE = 64\n",
        "BATCH_SIZE = 64\n",
        "base_dir = os.path.join('image')\n",
        "\n",
        "datagen = tf.keras.preprocessing.image.ImageDataGenerator(\n",
        "    rescale=1./255, \n",
        "    validation_split=0.2)\n",
        "\n",
        "train_generator = datagen.flow_from_directory(\n",
        "    base_dir,\n",
        "    target_size=(IMAGE_SIZE, IMAGE_SIZE),\n",
        "    batch_size=BATCH_SIZE, \n",
        "    subset='training')\n",
        "\n",
        "val_generator = datagen.flow_from_directory(\n",
        "    base_dir,\n",
        "    target_size=(IMAGE_SIZE, IMAGE_SIZE),\n",
        "    batch_size=BATCH_SIZE, \n",
        "    subset='validation')\n",
        "\n",
        "#Memuat dataset pengujian\n",
        "X_test = []\n",
        "y_test = []\n",
        "labels = ['Cassava___cbb','Cassava___cbsd','Cassava___cgm','Cassava___cmd','Cassava___healthy','Tomato___Bacterial_spot　','Tomato___Early_blight　','Tomato___healthy　','Tomato___Late_blight　','Tomato___Leaf_Mold','Tomato___mosaic_virus','Tomato___Septoria_leaf_spot　','Tomato___Spider_mites_20Two-spotted_spider_mite','Tomato___Target_Spot　','Tomato___Yellow_Leaf_Curl_Virus']\n",
        "\n",
        "for i,label in enumerate(labels):\n",
        "    folder = os.path.join(\"image\",label)\n",
        "    files = sorted(os.listdir(folder))\n",
        "    files = [x for x in files if x.endswith(\".jpg\")]\n",
        "    for k,file in enumerate(files):\n",
        "        image_path = os.path.join(folder, file)\n",
        "        \n",
        "        image = imread(image_path)/255.\n",
        "        image = resize(image,(64,64))\n",
        "        X_test.append(image)\n",
        "        category = os.path.split(folder)[-1]\n",
        "        y_test.append(i)\n",
        "\n",
        "X_test = np.array(X_test)\n",
        "y_test = np.array(y_test)\n",
        "\n",
        "#Menampilkan bentuk dari masing-masing dataset\n",
        "for image_batch, label_batch in train_generator:\n",
        "  break\n",
        "print(\"Bentuk array dari dataset train (pelatihan) adalah:\", image_batch.shape,label_batch.shape)\n",
        "for image_batch, label_batch in val_generator:\n",
        "  break\n",
        "print(\"Bentuk array dari dataset validation (validasi) adalah:\", image_batch.shape,label_batch.shape)\n",
        "print(\"Bentuk array dari dataset test (pengujian) adalah:\", X_test.shape,y_test.shape)"
      ],
      "execution_count": 4,
      "outputs": [
        {
          "output_type": "stream",
          "text": [
            "Found 19059 images belonging to 15 classes.\n",
            "Found 4757 images belonging to 15 classes.\n",
            "Bentuk array dari dataset train (pelatihan) adalah: (64, 64, 64, 3) (64, 15)\n",
            "Bentuk array dari dataset validation (validasi) adalah: (64, 64, 64, 3) (64, 15)\n",
            "Bentuk array dari dataset test (pengujian) adalah: (5809, 64, 64, 3) (5809,)\n"
          ],
          "name": "stdout"
        }
      ]
    },
    {
      "cell_type": "code",
      "metadata": {
        "id": "Rd1EDl97T7tE",
        "colab_type": "code",
        "outputId": "6a150ae9-957c-4ee7-b25b-c4b395875683",
        "colab": {
          "base_uri": "https://localhost:8080/",
          "height": 54
        }
      },
      "source": [
        "print (train_generator.class_indices)\n",
        "\n",
        "labels_txt = '\\n'.join(sorted(train_generator.class_indices.keys()))\n",
        "\n",
        "with open('labels.txt', 'w') as f:\n",
        "  f.write(labels_txt)"
      ],
      "execution_count": 5,
      "outputs": [
        {
          "output_type": "stream",
          "text": [
            "{'Cassava___cbb': 0, 'Cassava___cbsd': 1, 'Cassava___cgm': 2, 'Cassava___cmd': 3, 'Cassava___healthy': 4, 'Tomato___Bacterial_spot\\u3000': 5, 'Tomato___Early_blight\\u3000': 6, 'Tomato___Late_blight\\u3000': 7, 'Tomato___Leaf_Mold': 8, 'Tomato___Septoria_leaf_spot\\u3000': 9, 'Tomato___Spider_mites_20Two-spotted_spider_mite': 10, 'Tomato___Target_Spot\\u3000': 11, 'Tomato___Yellow_Leaf_Curl_Virus': 12, 'Tomato___healthy\\u3000': 13, 'Tomato___mosaic_virus': 14}\n"
          ],
          "name": "stdout"
        }
      ]
    },
    {
      "cell_type": "code",
      "metadata": {
        "id": "-QgRw5XsRKzl",
        "colab_type": "code",
        "outputId": "620cc2f1-2a38-4881-a544-e2e72e5307ee",
        "colab": {
          "base_uri": "https://localhost:8080/",
          "height": 277
        }
      },
      "source": [
        "!cat labels.txt"
      ],
      "execution_count": 6,
      "outputs": [
        {
          "output_type": "stream",
          "text": [
            "Cassava___cbb\n",
            "Cassava___cbsd\n",
            "Cassava___cgm\n",
            "Cassava___cmd\n",
            "Cassava___healthy\n",
            "Tomato___Bacterial_spot　\n",
            "Tomato___Early_blight　\n",
            "Tomato___Late_blight　\n",
            "Tomato___Leaf_Mold\n",
            "Tomato___Septoria_leaf_spot　\n",
            "Tomato___Spider_mites_20Two-spotted_spider_mite\n",
            "Tomato___Target_Spot　\n",
            "Tomato___Yellow_Leaf_Curl_Virus\n",
            "Tomato___healthy　\n",
            "Tomato___mosaic_virus"
          ],
          "name": "stdout"
        }
      ]
    },
    {
      "cell_type": "markdown",
      "metadata": {
        "id": "s2QUH924ypzT",
        "colab_type": "text"
      },
      "source": [
        "# Pembuatan Arsitektur CNN"
      ]
    },
    {
      "cell_type": "code",
      "metadata": {
        "id": "b-pI1d12yoI1",
        "colab_type": "code",
        "outputId": "a5298322-6b54-42b2-a636-02554ff085f3",
        "colab": {
          "base_uri": "https://localhost:8080/",
          "height": 106
        }
      },
      "source": [
        "IMG_SHAPE = (64, 64, 3)\n",
        "# Membuat model dasar (base model) dari pre-trained model MobileNet\n",
        "base_model = tf.keras.applications.MobileNet(input_shape=IMG_SHAPE,\n",
        "                                              include_top=False, \n",
        "                                              weights='imagenet')"
      ],
      "execution_count": 7,
      "outputs": [
        {
          "output_type": "stream",
          "text": [
            "/tensorflow-2.1.0/python3.6/keras_applications/mobilenet.py:207: UserWarning: `input_shape` is undefined or non-square, or `rows` is not in [128, 160, 192, 224]. Weights for input shape (224, 224) will be loaded as the default.\n",
            "  warnings.warn('`input_shape` is undefined or non-square, '\n"
          ],
          "name": "stderr"
        },
        {
          "output_type": "stream",
          "text": [
            "Downloading data from https://github.com/fchollet/deep-learning-models/releases/download/v0.6/mobilenet_1_0_224_tf_no_top.h5\n",
            "17227776/17225924 [==============================] - 2s 0us/step\n"
          ],
          "name": "stdout"
        }
      ]
    },
    {
      "cell_type": "markdown",
      "metadata": {
        "id": "Zo1tkiE5y1YO",
        "colab_type": "text"
      },
      "source": [
        "## *Feature Extraction*"
      ]
    },
    {
      "cell_type": "code",
      "metadata": {
        "id": "7x6z_yG8y5Xh",
        "colab_type": "code",
        "outputId": "38aac483-4a1d-4444-b4dd-a944c6d1e43d",
        "colab": {
          "base_uri": "https://localhost:8080/",
          "height": 1000
        }
      },
      "source": [
        "base_model.trainable = False\n",
        "base_model.summary()"
      ],
      "execution_count": 8,
      "outputs": [
        {
          "output_type": "stream",
          "text": [
            "Model: \"mobilenet_1.00_224\"\n",
            "_________________________________________________________________\n",
            "Layer (type)                 Output Shape              Param #   \n",
            "=================================================================\n",
            "input_1 (InputLayer)         [(None, 64, 64, 3)]       0         \n",
            "_________________________________________________________________\n",
            "conv1_pad (ZeroPadding2D)    (None, 65, 65, 3)         0         \n",
            "_________________________________________________________________\n",
            "conv1 (Conv2D)               (None, 32, 32, 32)        864       \n",
            "_________________________________________________________________\n",
            "conv1_bn (BatchNormalization (None, 32, 32, 32)        128       \n",
            "_________________________________________________________________\n",
            "conv1_relu (ReLU)            (None, 32, 32, 32)        0         \n",
            "_________________________________________________________________\n",
            "conv_dw_1 (DepthwiseConv2D)  (None, 32, 32, 32)        288       \n",
            "_________________________________________________________________\n",
            "conv_dw_1_bn (BatchNormaliza (None, 32, 32, 32)        128       \n",
            "_________________________________________________________________\n",
            "conv_dw_1_relu (ReLU)        (None, 32, 32, 32)        0         \n",
            "_________________________________________________________________\n",
            "conv_pw_1 (Conv2D)           (None, 32, 32, 64)        2048      \n",
            "_________________________________________________________________\n",
            "conv_pw_1_bn (BatchNormaliza (None, 32, 32, 64)        256       \n",
            "_________________________________________________________________\n",
            "conv_pw_1_relu (ReLU)        (None, 32, 32, 64)        0         \n",
            "_________________________________________________________________\n",
            "conv_pad_2 (ZeroPadding2D)   (None, 33, 33, 64)        0         \n",
            "_________________________________________________________________\n",
            "conv_dw_2 (DepthwiseConv2D)  (None, 16, 16, 64)        576       \n",
            "_________________________________________________________________\n",
            "conv_dw_2_bn (BatchNormaliza (None, 16, 16, 64)        256       \n",
            "_________________________________________________________________\n",
            "conv_dw_2_relu (ReLU)        (None, 16, 16, 64)        0         \n",
            "_________________________________________________________________\n",
            "conv_pw_2 (Conv2D)           (None, 16, 16, 128)       8192      \n",
            "_________________________________________________________________\n",
            "conv_pw_2_bn (BatchNormaliza (None, 16, 16, 128)       512       \n",
            "_________________________________________________________________\n",
            "conv_pw_2_relu (ReLU)        (None, 16, 16, 128)       0         \n",
            "_________________________________________________________________\n",
            "conv_dw_3 (DepthwiseConv2D)  (None, 16, 16, 128)       1152      \n",
            "_________________________________________________________________\n",
            "conv_dw_3_bn (BatchNormaliza (None, 16, 16, 128)       512       \n",
            "_________________________________________________________________\n",
            "conv_dw_3_relu (ReLU)        (None, 16, 16, 128)       0         \n",
            "_________________________________________________________________\n",
            "conv_pw_3 (Conv2D)           (None, 16, 16, 128)       16384     \n",
            "_________________________________________________________________\n",
            "conv_pw_3_bn (BatchNormaliza (None, 16, 16, 128)       512       \n",
            "_________________________________________________________________\n",
            "conv_pw_3_relu (ReLU)        (None, 16, 16, 128)       0         \n",
            "_________________________________________________________________\n",
            "conv_pad_4 (ZeroPadding2D)   (None, 17, 17, 128)       0         \n",
            "_________________________________________________________________\n",
            "conv_dw_4 (DepthwiseConv2D)  (None, 8, 8, 128)         1152      \n",
            "_________________________________________________________________\n",
            "conv_dw_4_bn (BatchNormaliza (None, 8, 8, 128)         512       \n",
            "_________________________________________________________________\n",
            "conv_dw_4_relu (ReLU)        (None, 8, 8, 128)         0         \n",
            "_________________________________________________________________\n",
            "conv_pw_4 (Conv2D)           (None, 8, 8, 256)         32768     \n",
            "_________________________________________________________________\n",
            "conv_pw_4_bn (BatchNormaliza (None, 8, 8, 256)         1024      \n",
            "_________________________________________________________________\n",
            "conv_pw_4_relu (ReLU)        (None, 8, 8, 256)         0         \n",
            "_________________________________________________________________\n",
            "conv_dw_5 (DepthwiseConv2D)  (None, 8, 8, 256)         2304      \n",
            "_________________________________________________________________\n",
            "conv_dw_5_bn (BatchNormaliza (None, 8, 8, 256)         1024      \n",
            "_________________________________________________________________\n",
            "conv_dw_5_relu (ReLU)        (None, 8, 8, 256)         0         \n",
            "_________________________________________________________________\n",
            "conv_pw_5 (Conv2D)           (None, 8, 8, 256)         65536     \n",
            "_________________________________________________________________\n",
            "conv_pw_5_bn (BatchNormaliza (None, 8, 8, 256)         1024      \n",
            "_________________________________________________________________\n",
            "conv_pw_5_relu (ReLU)        (None, 8, 8, 256)         0         \n",
            "_________________________________________________________________\n",
            "conv_pad_6 (ZeroPadding2D)   (None, 9, 9, 256)         0         \n",
            "_________________________________________________________________\n",
            "conv_dw_6 (DepthwiseConv2D)  (None, 4, 4, 256)         2304      \n",
            "_________________________________________________________________\n",
            "conv_dw_6_bn (BatchNormaliza (None, 4, 4, 256)         1024      \n",
            "_________________________________________________________________\n",
            "conv_dw_6_relu (ReLU)        (None, 4, 4, 256)         0         \n",
            "_________________________________________________________________\n",
            "conv_pw_6 (Conv2D)           (None, 4, 4, 512)         131072    \n",
            "_________________________________________________________________\n",
            "conv_pw_6_bn (BatchNormaliza (None, 4, 4, 512)         2048      \n",
            "_________________________________________________________________\n",
            "conv_pw_6_relu (ReLU)        (None, 4, 4, 512)         0         \n",
            "_________________________________________________________________\n",
            "conv_dw_7 (DepthwiseConv2D)  (None, 4, 4, 512)         4608      \n",
            "_________________________________________________________________\n",
            "conv_dw_7_bn (BatchNormaliza (None, 4, 4, 512)         2048      \n",
            "_________________________________________________________________\n",
            "conv_dw_7_relu (ReLU)        (None, 4, 4, 512)         0         \n",
            "_________________________________________________________________\n",
            "conv_pw_7 (Conv2D)           (None, 4, 4, 512)         262144    \n",
            "_________________________________________________________________\n",
            "conv_pw_7_bn (BatchNormaliza (None, 4, 4, 512)         2048      \n",
            "_________________________________________________________________\n",
            "conv_pw_7_relu (ReLU)        (None, 4, 4, 512)         0         \n",
            "_________________________________________________________________\n",
            "conv_dw_8 (DepthwiseConv2D)  (None, 4, 4, 512)         4608      \n",
            "_________________________________________________________________\n",
            "conv_dw_8_bn (BatchNormaliza (None, 4, 4, 512)         2048      \n",
            "_________________________________________________________________\n",
            "conv_dw_8_relu (ReLU)        (None, 4, 4, 512)         0         \n",
            "_________________________________________________________________\n",
            "conv_pw_8 (Conv2D)           (None, 4, 4, 512)         262144    \n",
            "_________________________________________________________________\n",
            "conv_pw_8_bn (BatchNormaliza (None, 4, 4, 512)         2048      \n",
            "_________________________________________________________________\n",
            "conv_pw_8_relu (ReLU)        (None, 4, 4, 512)         0         \n",
            "_________________________________________________________________\n",
            "conv_dw_9 (DepthwiseConv2D)  (None, 4, 4, 512)         4608      \n",
            "_________________________________________________________________\n",
            "conv_dw_9_bn (BatchNormaliza (None, 4, 4, 512)         2048      \n",
            "_________________________________________________________________\n",
            "conv_dw_9_relu (ReLU)        (None, 4, 4, 512)         0         \n",
            "_________________________________________________________________\n",
            "conv_pw_9 (Conv2D)           (None, 4, 4, 512)         262144    \n",
            "_________________________________________________________________\n",
            "conv_pw_9_bn (BatchNormaliza (None, 4, 4, 512)         2048      \n",
            "_________________________________________________________________\n",
            "conv_pw_9_relu (ReLU)        (None, 4, 4, 512)         0         \n",
            "_________________________________________________________________\n",
            "conv_dw_10 (DepthwiseConv2D) (None, 4, 4, 512)         4608      \n",
            "_________________________________________________________________\n",
            "conv_dw_10_bn (BatchNormaliz (None, 4, 4, 512)         2048      \n",
            "_________________________________________________________________\n",
            "conv_dw_10_relu (ReLU)       (None, 4, 4, 512)         0         \n",
            "_________________________________________________________________\n",
            "conv_pw_10 (Conv2D)          (None, 4, 4, 512)         262144    \n",
            "_________________________________________________________________\n",
            "conv_pw_10_bn (BatchNormaliz (None, 4, 4, 512)         2048      \n",
            "_________________________________________________________________\n",
            "conv_pw_10_relu (ReLU)       (None, 4, 4, 512)         0         \n",
            "_________________________________________________________________\n",
            "conv_dw_11 (DepthwiseConv2D) (None, 4, 4, 512)         4608      \n",
            "_________________________________________________________________\n",
            "conv_dw_11_bn (BatchNormaliz (None, 4, 4, 512)         2048      \n",
            "_________________________________________________________________\n",
            "conv_dw_11_relu (ReLU)       (None, 4, 4, 512)         0         \n",
            "_________________________________________________________________\n",
            "conv_pw_11 (Conv2D)          (None, 4, 4, 512)         262144    \n",
            "_________________________________________________________________\n",
            "conv_pw_11_bn (BatchNormaliz (None, 4, 4, 512)         2048      \n",
            "_________________________________________________________________\n",
            "conv_pw_11_relu (ReLU)       (None, 4, 4, 512)         0         \n",
            "_________________________________________________________________\n",
            "conv_pad_12 (ZeroPadding2D)  (None, 5, 5, 512)         0         \n",
            "_________________________________________________________________\n",
            "conv_dw_12 (DepthwiseConv2D) (None, 2, 2, 512)         4608      \n",
            "_________________________________________________________________\n",
            "conv_dw_12_bn (BatchNormaliz (None, 2, 2, 512)         2048      \n",
            "_________________________________________________________________\n",
            "conv_dw_12_relu (ReLU)       (None, 2, 2, 512)         0         \n",
            "_________________________________________________________________\n",
            "conv_pw_12 (Conv2D)          (None, 2, 2, 1024)        524288    \n",
            "_________________________________________________________________\n",
            "conv_pw_12_bn (BatchNormaliz (None, 2, 2, 1024)        4096      \n",
            "_________________________________________________________________\n",
            "conv_pw_12_relu (ReLU)       (None, 2, 2, 1024)        0         \n",
            "_________________________________________________________________\n",
            "conv_dw_13 (DepthwiseConv2D) (None, 2, 2, 1024)        9216      \n",
            "_________________________________________________________________\n",
            "conv_dw_13_bn (BatchNormaliz (None, 2, 2, 1024)        4096      \n",
            "_________________________________________________________________\n",
            "conv_dw_13_relu (ReLU)       (None, 2, 2, 1024)        0         \n",
            "_________________________________________________________________\n",
            "conv_pw_13 (Conv2D)          (None, 2, 2, 1024)        1048576   \n",
            "_________________________________________________________________\n",
            "conv_pw_13_bn (BatchNormaliz (None, 2, 2, 1024)        4096      \n",
            "_________________________________________________________________\n",
            "conv_pw_13_relu (ReLU)       (None, 2, 2, 1024)        0         \n",
            "=================================================================\n",
            "Total params: 3,228,864\n",
            "Trainable params: 0\n",
            "Non-trainable params: 3,228,864\n",
            "_________________________________________________________________\n"
          ],
          "name": "stdout"
        }
      ]
    },
    {
      "cell_type": "markdown",
      "metadata": {
        "id": "4MPDz6JD_L2B",
        "colab_type": "text"
      },
      "source": [
        "# Pelatihan Data"
      ]
    },
    {
      "cell_type": "markdown",
      "metadata": {
        "id": "49atXcXNGdvk",
        "colab_type": "text"
      },
      "source": [
        "## Mempersiapkan Data Masukkan Pengujian"
      ]
    },
    {
      "cell_type": "code",
      "metadata": {
        "id": "P_FAIt4T1rNS",
        "colab_type": "code",
        "colab": {}
      },
      "source": [
        "y_test2 = to_categorical(y_test)\n",
        "X_test3, y_test3 = (X_test, y_test2)"
      ],
      "execution_count": 0,
      "outputs": []
    },
    {
      "cell_type": "markdown",
      "metadata": {
        "id": "A5kWA1jHA3XI",
        "colab_type": "text"
      },
      "source": [
        "## Pembuatan Model (Menambah Model)"
      ]
    },
    {
      "cell_type": "code",
      "metadata": {
        "id": "vDhGQRAvA5Wn",
        "colab_type": "code",
        "outputId": "ee457b00-3e0d-447c-96c1-99a48fde0fe0",
        "colab": {
          "base_uri": "https://localhost:8080/",
          "height": 294
        }
      },
      "source": [
        "model = tf.keras.Sequential([\n",
        "    base_model,    \n",
        "    tf.keras.layers.Conv2D(32, 2, activation='relu'),\n",
        "    #tf.keras.layers.Dropout(0.4),\n",
        "    tf.keras.layers.GlobalAveragePooling2D(),\n",
        "    tf.keras.layers.Dense(15, activation='softmax')\n",
        "])\n",
        "\n",
        "model.compile(\"adam\",loss=\"categorical_crossentropy\",metrics=[\"acc\"])\n",
        "model.summary()"
      ],
      "execution_count": 10,
      "outputs": [
        {
          "output_type": "stream",
          "text": [
            "Model: \"sequential\"\n",
            "_________________________________________________________________\n",
            "Layer (type)                 Output Shape              Param #   \n",
            "=================================================================\n",
            "mobilenet_1.00_224 (Model)   (None, 2, 2, 1024)        3228864   \n",
            "_________________________________________________________________\n",
            "conv2d (Conv2D)              (None, 1, 1, 32)          131104    \n",
            "_________________________________________________________________\n",
            "global_average_pooling2d (Gl (None, 32)                0         \n",
            "_________________________________________________________________\n",
            "dense (Dense)                (None, 15)                495       \n",
            "=================================================================\n",
            "Total params: 3,360,463\n",
            "Trainable params: 131,599\n",
            "Non-trainable params: 3,228,864\n",
            "_________________________________________________________________\n"
          ],
          "name": "stdout"
        }
      ]
    },
    {
      "cell_type": "markdown",
      "metadata": {
        "id": "9YUZJT7wDpHF",
        "colab_type": "text"
      },
      "source": [
        "## Pelatihan"
      ]
    },
    {
      "cell_type": "code",
      "metadata": {
        "id": "6ONTwfhBDrC6",
        "colab_type": "code",
        "outputId": "f6eff72a-1859-4d9b-e9cf-aa6e22f53ddc",
        "colab": {
          "base_uri": "https://localhost:8080/",
          "height": 1000
        }
      },
      "source": [
        "history = model.fit_generator(train_generator, \n",
        "                    epochs=50, \n",
        "                    validation_data=val_generator)\n"
      ],
      "execution_count": 11,
      "outputs": [
        {
          "output_type": "stream",
          "text": [
            "WARNING:tensorflow:From <ipython-input-11-8a4e592da975>:3: Model.fit_generator (from tensorflow.python.keras.engine.training) is deprecated and will be removed in a future version.\n",
            "Instructions for updating:\n",
            "Please use Model.fit, which supports generators.\n",
            "WARNING:tensorflow:sample_weight modes were coerced from\n",
            "  ...\n",
            "    to  \n",
            "  ['...']\n",
            "WARNING:tensorflow:sample_weight modes were coerced from\n",
            "  ...\n",
            "    to  \n",
            "  ['...']\n",
            "Train for 298 steps, validate for 75 steps\n",
            "Epoch 1/50\n",
            "298/298 [==============================] - 62s 209ms/step - loss: 1.2634 - acc: 0.5950 - val_loss: 1.8552 - val_acc: 0.4255\n",
            "Epoch 2/50\n",
            "298/298 [==============================] - 54s 183ms/step - loss: 0.7269 - acc: 0.7506 - val_loss: 2.1140 - val_acc: 0.3878\n",
            "Epoch 3/50\n",
            "298/298 [==============================] - 55s 184ms/step - loss: 0.5409 - acc: 0.8096 - val_loss: 2.2107 - val_acc: 0.3822\n",
            "Epoch 4/50\n",
            "298/298 [==============================] - 55s 185ms/step - loss: 0.4125 - acc: 0.8496 - val_loss: 2.4115 - val_acc: 0.3883\n",
            "Epoch 5/50\n",
            "298/298 [==============================] - 56s 187ms/step - loss: 0.3165 - acc: 0.8908 - val_loss: 2.4318 - val_acc: 0.3839\n",
            "Epoch 6/50\n",
            "298/298 [==============================] - 55s 185ms/step - loss: 0.2431 - acc: 0.9165 - val_loss: 2.9001 - val_acc: 0.3700\n",
            "Epoch 7/50\n",
            "298/298 [==============================] - 55s 186ms/step - loss: 0.1869 - acc: 0.9386 - val_loss: 2.9508 - val_acc: 0.3715\n",
            "Epoch 8/50\n",
            "298/298 [==============================] - 56s 187ms/step - loss: 0.1397 - acc: 0.9577 - val_loss: 3.3803 - val_acc: 0.3460\n",
            "Epoch 9/50\n",
            "298/298 [==============================] - 55s 185ms/step - loss: 0.1021 - acc: 0.9718 - val_loss: 3.6830 - val_acc: 0.3542\n",
            "Epoch 10/50\n",
            "298/298 [==============================] - 56s 186ms/step - loss: 0.0812 - acc: 0.9782 - val_loss: 3.8080 - val_acc: 0.3538\n",
            "Epoch 11/50\n",
            "298/298 [==============================] - 56s 187ms/step - loss: 0.0665 - acc: 0.9836 - val_loss: 3.9173 - val_acc: 0.3498\n",
            "Epoch 12/50\n",
            "298/298 [==============================] - 55s 186ms/step - loss: 0.0598 - acc: 0.9848 - val_loss: 4.4380 - val_acc: 0.3502\n",
            "Epoch 13/50\n",
            "298/298 [==============================] - 56s 187ms/step - loss: 0.0580 - acc: 0.9838 - val_loss: 4.7243 - val_acc: 0.3366\n",
            "Epoch 14/50\n",
            "298/298 [==============================] - 56s 189ms/step - loss: 0.0707 - acc: 0.9778 - val_loss: 5.5306 - val_acc: 0.3149\n",
            "Epoch 15/50\n",
            "298/298 [==============================] - 56s 189ms/step - loss: 0.0786 - acc: 0.9742 - val_loss: 5.8211 - val_acc: 0.3027\n",
            "Epoch 16/50\n",
            "298/298 [==============================] - 56s 189ms/step - loss: 0.0557 - acc: 0.9822 - val_loss: 5.7044 - val_acc: 0.3143\n",
            "Epoch 17/50\n",
            "298/298 [==============================] - 56s 189ms/step - loss: 0.0402 - acc: 0.9892 - val_loss: 5.8975 - val_acc: 0.3258\n",
            "Epoch 18/50\n",
            "298/298 [==============================] - 57s 191ms/step - loss: 0.0337 - acc: 0.9902 - val_loss: 6.0303 - val_acc: 0.3122\n",
            "Epoch 19/50\n",
            "298/298 [==============================] - 57s 190ms/step - loss: 0.0278 - acc: 0.9931 - val_loss: 7.0003 - val_acc: 0.3025\n",
            "Epoch 20/50\n",
            "298/298 [==============================] - 56s 188ms/step - loss: 0.0301 - acc: 0.9917 - val_loss: 7.5454 - val_acc: 0.2922\n",
            "Epoch 21/50\n",
            "298/298 [==============================] - 57s 190ms/step - loss: 0.0335 - acc: 0.9892 - val_loss: 7.5175 - val_acc: 0.2792\n",
            "Epoch 22/50\n",
            "298/298 [==============================] - 57s 190ms/step - loss: 0.0511 - acc: 0.9837 - val_loss: 7.2077 - val_acc: 0.3042\n",
            "Epoch 23/50\n",
            "298/298 [==============================] - 55s 186ms/step - loss: 0.0634 - acc: 0.9774 - val_loss: 7.6396 - val_acc: 0.2983\n",
            "Epoch 24/50\n",
            "298/298 [==============================] - 55s 185ms/step - loss: 0.0470 - acc: 0.9844 - val_loss: 8.7788 - val_acc: 0.2834\n",
            "Epoch 25/50\n",
            "298/298 [==============================] - 55s 185ms/step - loss: 0.0195 - acc: 0.9940 - val_loss: 8.4679 - val_acc: 0.2903\n",
            "Epoch 26/50\n",
            "298/298 [==============================] - 55s 184ms/step - loss: 0.0095 - acc: 0.9979 - val_loss: 7.9274 - val_acc: 0.3012\n",
            "Epoch 27/50\n",
            "298/298 [==============================] - 55s 184ms/step - loss: 0.0043 - acc: 0.9994 - val_loss: 7.9571 - val_acc: 0.3048\n",
            "Epoch 28/50\n",
            "298/298 [==============================] - 55s 185ms/step - loss: 0.0021 - acc: 0.9998 - val_loss: 8.0777 - val_acc: 0.3057\n",
            "Epoch 29/50\n",
            "298/298 [==============================] - 55s 184ms/step - loss: 0.0017 - acc: 0.9998 - val_loss: 8.0205 - val_acc: 0.3052\n",
            "Epoch 30/50\n",
            "298/298 [==============================] - 55s 184ms/step - loss: 0.0016 - acc: 0.9998 - val_loss: 8.1799 - val_acc: 0.3040\n",
            "Epoch 31/50\n",
            "298/298 [==============================] - 55s 183ms/step - loss: 0.0014 - acc: 0.9998 - val_loss: 8.0860 - val_acc: 0.3094\n",
            "Epoch 32/50\n",
            "298/298 [==============================] - 55s 183ms/step - loss: 0.0015 - acc: 0.9998 - val_loss: 8.4731 - val_acc: 0.2966\n",
            "Epoch 33/50\n",
            "298/298 [==============================] - 55s 183ms/step - loss: 0.0018 - acc: 0.9997 - val_loss: 8.0591 - val_acc: 0.3096\n",
            "Epoch 34/50\n",
            "298/298 [==============================] - 55s 185ms/step - loss: 0.0018 - acc: 0.9998 - val_loss: 8.2578 - val_acc: 0.3073\n",
            "Epoch 35/50\n",
            "298/298 [==============================] - 54s 183ms/step - loss: 0.0012 - acc: 0.9998 - val_loss: 8.4364 - val_acc: 0.2991\n",
            "Epoch 36/50\n",
            "298/298 [==============================] - 55s 183ms/step - loss: 0.0102 - acc: 0.9970 - val_loss: 7.1043 - val_acc: 0.3450\n",
            "Epoch 37/50\n",
            "298/298 [==============================] - 55s 183ms/step - loss: 0.4270 - acc: 0.8981 - val_loss: 7.0941 - val_acc: 0.3477\n",
            "Epoch 38/50\n",
            "298/298 [==============================] - 54s 181ms/step - loss: 0.0926 - acc: 0.9697 - val_loss: 7.6698 - val_acc: 0.3479\n",
            "Epoch 39/50\n",
            "298/298 [==============================] - 55s 184ms/step - loss: 0.0232 - acc: 0.9925 - val_loss: 7.6873 - val_acc: 0.3475\n",
            "Epoch 40/50\n",
            "298/298 [==============================] - 55s 184ms/step - loss: 0.0059 - acc: 0.9993 - val_loss: 7.4728 - val_acc: 0.3569\n",
            "Epoch 41/50\n",
            "298/298 [==============================] - 55s 183ms/step - loss: 0.0026 - acc: 0.9998 - val_loss: 7.8643 - val_acc: 0.3471\n",
            "Epoch 42/50\n",
            "298/298 [==============================] - 55s 184ms/step - loss: 0.0019 - acc: 0.9999 - val_loss: 7.8512 - val_acc: 0.3506\n",
            "Epoch 43/50\n",
            "298/298 [==============================] - 55s 183ms/step - loss: 0.0016 - acc: 0.9999 - val_loss: 7.9509 - val_acc: 0.3471\n",
            "Epoch 44/50\n",
            "298/298 [==============================] - 55s 185ms/step - loss: 0.0014 - acc: 0.9999 - val_loss: 7.9301 - val_acc: 0.3506\n",
            "Epoch 45/50\n",
            "298/298 [==============================] - 55s 185ms/step - loss: 0.0012 - acc: 0.9999 - val_loss: 8.0097 - val_acc: 0.3485\n",
            "Epoch 46/50\n",
            "298/298 [==============================] - 56s 187ms/step - loss: 0.0011 - acc: 0.9999 - val_loss: 7.9767 - val_acc: 0.3494\n",
            "Epoch 47/50\n",
            "298/298 [==============================] - 56s 189ms/step - loss: 9.8509e-04 - acc: 0.9999 - val_loss: 8.1095 - val_acc: 0.3464\n",
            "Epoch 48/50\n",
            "298/298 [==============================] - 56s 187ms/step - loss: 9.0070e-04 - acc: 0.9999 - val_loss: 8.1061 - val_acc: 0.3475\n",
            "Epoch 49/50\n",
            "298/298 [==============================] - 56s 187ms/step - loss: 8.4381e-04 - acc: 0.9999 - val_loss: 8.0830 - val_acc: 0.3481\n",
            "Epoch 50/50\n",
            "298/298 [==============================] - 55s 186ms/step - loss: 0.0010 - acc: 0.9999 - val_loss: 8.1598 - val_acc: 0.3475\n"
          ],
          "name": "stdout"
        }
      ]
    },
    {
      "cell_type": "markdown",
      "metadata": {
        "id": "Qu4RfPQXJJWS",
        "colab_type": "text"
      },
      "source": [
        "## Grafik Data Pelatihan"
      ]
    },
    {
      "cell_type": "code",
      "metadata": {
        "id": "cr4T5jKSHiT-",
        "colab_type": "code",
        "colab": {
          "base_uri": "https://localhost:8080/",
          "height": 842
        },
        "outputId": "b2dba750-ded7-463f-f3c2-f9c4a920b9fc"
      },
      "source": [
        "plt.plot(history.history[\"acc\"],label=\"Akurasi Pelatihan\")\n",
        "plt.plot(history.history[\"val_acc\"],label=\"Validasi Akurasi\")\n",
        "plt.legend()\n",
        "plt.show()\n",
        "\n",
        "plt.plot(history.history[\"loss\"],label=\"Kesalahan Pelatihan\")\n",
        "plt.plot(history.history[\"val_loss\"],label=\"Validasi Kesalahan\")\n",
        "plt.legend()\n",
        "plt.show()"
      ],
      "execution_count": 12,
      "outputs": [
        {
          "output_type": "display_data",
          "data": {
            "image/png": "[encoded data removed]",
            "text/plain": [
              "<Figure size 640x480 with 1 Axes>"
            ]
          },
          "metadata": {
            "tags": []
          }
        },
        {
          "output_type": "display_data",
          "data": {
            "image/png": "[encoded data removed]",
            "text/plain": [
              "<Figure size 640x480 with 1 Axes>"
            ]
          },
          "metadata": {
            "tags": []
          }
        }
      ]
    },
    {
      "cell_type": "code",
      "metadata": {
        "id": "C2KdKqZFxgvA",
        "colab_type": "code",
        "colab": {
          "base_uri": "https://localhost:8080/",
          "height": 34
        },
        "outputId": "8f2612f9-568b-4cd6-ccf1-840c391a711c"
      },
      "source": [
        "print('Number of trainable variables = {}'.format(len(model.trainable_variables)))"
      ],
      "execution_count": 13,
      "outputs": [
        {
          "output_type": "stream",
          "text": [
            "Number of trainable variables = 4\n"
          ],
          "name": "stdout"
        }
      ]
    },
    {
      "cell_type": "markdown",
      "metadata": {
        "id": "QLmgPgJMwN5m",
        "colab_type": "text"
      },
      "source": [
        "## Menggunakan Model"
      ]
    },
    {
      "cell_type": "code",
      "metadata": {
        "id": "QfzV_FsuvyIF",
        "colab_type": "code",
        "colab": {
          "base_uri": "https://localhost:8080/",
          "height": 34
        },
        "outputId": "4b59ad1a-e4b9-471e-ad06-2c2a6e6e4e84"
      },
      "source": [
        "print(train_generator)"
      ],
      "execution_count": 14,
      "outputs": [
        {
          "output_type": "stream",
          "text": [
            "<keras_preprocessing.image.directory_iterator.DirectoryIterator object at 0x7f1c06c333c8>\n"
          ],
          "name": "stdout"
        }
      ]
    },
    {
      "cell_type": "code",
      "metadata": {
        "id": "7RgBHC1fwacN",
        "colab_type": "code",
        "colab": {
          "base_uri": "https://localhost:8080/",
          "height": 86
        },
        "outputId": "0449fc88-4b5b-41cf-8786-d99a93a6350b"
      },
      "source": [
        "#Prediksi Label Validasi dengan Pelatihan\n",
        "n = 44\n",
        "input_image = image_batch[n][np.newaxis,...]\n",
        "print(\"Labelnya adalah: \", label_batch[n])\n",
        "\n",
        "predictions = model.predict(input_image)\n",
        "print(\"Prediksinya adalah\",predictions[0])"
      ],
      "execution_count": 15,
      "outputs": [
        {
          "output_type": "stream",
          "text": [
            "Labelnya adalah:  [0. 0. 0. 0. 0. 0. 0. 1. 0. 0. 0. 0. 0. 0. 0.]\n",
            "Prediksinya adalah [1.3958094e-11 5.3568753e-25 6.4875520e-27 7.6626279e-19 4.8185541e-24\n",
            " 1.5277612e-04 5.6075775e-03 3.0583798e-14 1.4594642e-07 6.6026823e-06\n",
            " 6.0049395e-08 7.9358644e-13 2.7098698e-17 8.7519801e-23 9.9423283e-01]\n"
          ],
          "name": "stdout"
        }
      ]
    },
    {
      "cell_type": "markdown",
      "metadata": {
        "id": "_NlIkTYKnMej",
        "colab_type": "text"
      },
      "source": [
        "Hasil tersebut merupakan hasil prediksi dari training dari 3 jenis data pelatihan yaitu jenis beras Cilamaya, IR 64, dan Ketan. Menggunakan inputan gambar dengan piksel 224 x 224, 1 filter dengan fungsi aktivasi relu, dan 1 layer output dengan fungsi aktivasi softmax"
      ]
    },
    {
      "cell_type": "markdown",
      "metadata": {
        "id": "J-8AG_vUJi6o",
        "colab_type": "text"
      },
      "source": [
        "# Evaluasi"
      ]
    },
    {
      "cell_type": "code",
      "metadata": {
        "id": "BsSWGwr6J6yr",
        "colab_type": "code",
        "colab": {
          "base_uri": "https://localhost:8080/",
          "height": 590
        },
        "outputId": "b26a8f65-e8be-4528-92a8-d6d60317615c"
      },
      "source": [
        "#Memeriksa matriks model\n",
        "print(model.metrics_names)\n",
        "#Evaluasi data training\n",
        "print(model.evaluate(train_generator))\n",
        "#Evaluasi validasi data\n",
        "print(model.evaluate(val_generator))\n",
        "#Evaluasi data test\n",
        "print(model.evaluate(x= X_test3, y = y_test3)) "
      ],
      "execution_count": 16,
      "outputs": [
        {
          "output_type": "stream",
          "text": [
            "['loss', 'acc']\n",
            "WARNING:tensorflow:sample_weight modes were coerced from\n",
            "  ...\n",
            "    to  \n",
            "  ['...']\n",
            "298/298 [==============================] - 44s 147ms/step - loss: 8.1569 - acc: 0.3472\n",
            "[8.15686406865216, 0.34718505]\n",
            "WARNING:tensorflow:sample_weight modes were coerced from\n",
            "  ...\n",
            "    to  \n",
            "  ['...']\n",
            "75/75 [==============================] - 11s 145ms/step - loss: 8.1598 - acc: 0.3475\n",
            "[8.15982842763265, 0.34748793]\n"
          ],
          "name": "stdout"
        },
        {
          "output_type": "error",
          "ename": "ValueError",
          "evalue": "ignored",
          "traceback": [
            "\u001b[0;31m---------------------------------------------------------------------------\u001b[0m",
            "\u001b[0;31mValueError\u001b[0m                                Traceback (most recent call last)",
            "\u001b[0;32m<ipython-input-16-0da3ee77b2c0>\u001b[0m in \u001b[0;36m<module>\u001b[0;34m()\u001b[0m\n\u001b[1;32m      5\u001b[0m \u001b[0mprint\u001b[0m\u001b[0;34m(\u001b[0m\u001b[0mmodel\u001b[0m\u001b[0;34m.\u001b[0m\u001b[0mevaluate\u001b[0m\u001b[0;34m(\u001b[0m\u001b[0mval_generator\u001b[0m\u001b[0;34m)\u001b[0m\u001b[0;34m)\u001b[0m\u001b[0;34m\u001b[0m\u001b[0;34m\u001b[0m\u001b[0m\n\u001b[1;32m      6\u001b[0m \u001b[0;31m#Evaluasi data test\u001b[0m\u001b[0;34m\u001b[0m\u001b[0;34m\u001b[0m\u001b[0;34m\u001b[0m\u001b[0m\n\u001b[0;32m----> 7\u001b[0;31m \u001b[0mprint\u001b[0m\u001b[0;34m(\u001b[0m\u001b[0mmodel\u001b[0m\u001b[0;34m.\u001b[0m\u001b[0mevaluate\u001b[0m\u001b[0;34m(\u001b[0m\u001b[0mx\u001b[0m\u001b[0;34m=\u001b[0m \u001b[0mX_test3\u001b[0m\u001b[0;34m,\u001b[0m \u001b[0my\u001b[0m \u001b[0;34m=\u001b[0m \u001b[0my_test3\u001b[0m\u001b[0;34m)\u001b[0m\u001b[0;34m)\u001b[0m\u001b[0;34m\u001b[0m\u001b[0;34m\u001b[0m\u001b[0m\n\u001b[0m",
            "\u001b[0;32m/tensorflow-2.1.0/python3.6/tensorflow_core/python/keras/engine/training.py\u001b[0m in \u001b[0;36mevaluate\u001b[0;34m(self, x, y, batch_size, verbose, sample_weight, steps, callbacks, max_queue_size, workers, use_multiprocessing)\u001b[0m\n\u001b[1;32m    928\u001b[0m         \u001b[0mmax_queue_size\u001b[0m\u001b[0;34m=\u001b[0m\u001b[0mmax_queue_size\u001b[0m\u001b[0;34m,\u001b[0m\u001b[0;34m\u001b[0m\u001b[0;34m\u001b[0m\u001b[0m\n\u001b[1;32m    929\u001b[0m         \u001b[0mworkers\u001b[0m\u001b[0;34m=\u001b[0m\u001b[0mworkers\u001b[0m\u001b[0;34m,\u001b[0m\u001b[0;34m\u001b[0m\u001b[0;34m\u001b[0m\u001b[0m\n\u001b[0;32m--> 930\u001b[0;31m         use_multiprocessing=use_multiprocessing)\n\u001b[0m\u001b[1;32m    931\u001b[0m \u001b[0;34m\u001b[0m\u001b[0m\n\u001b[1;32m    932\u001b[0m   def predict(self,\n",
            "\u001b[0;32m/tensorflow-2.1.0/python3.6/tensorflow_core/python/keras/engine/training_v2.py\u001b[0m in \u001b[0;36mevaluate\u001b[0;34m(self, model, x, y, batch_size, verbose, sample_weight, steps, callbacks, max_queue_size, workers, use_multiprocessing, **kwargs)\u001b[0m\n\u001b[1;32m    488\u001b[0m         \u001b[0msample_weight\u001b[0m\u001b[0;34m=\u001b[0m\u001b[0msample_weight\u001b[0m\u001b[0;34m,\u001b[0m \u001b[0msteps\u001b[0m\u001b[0;34m=\u001b[0m\u001b[0msteps\u001b[0m\u001b[0;34m,\u001b[0m \u001b[0mcallbacks\u001b[0m\u001b[0;34m=\u001b[0m\u001b[0mcallbacks\u001b[0m\u001b[0;34m,\u001b[0m\u001b[0;34m\u001b[0m\u001b[0;34m\u001b[0m\u001b[0m\n\u001b[1;32m    489\u001b[0m         \u001b[0mmax_queue_size\u001b[0m\u001b[0;34m=\u001b[0m\u001b[0mmax_queue_size\u001b[0m\u001b[0;34m,\u001b[0m \u001b[0mworkers\u001b[0m\u001b[0;34m=\u001b[0m\u001b[0mworkers\u001b[0m\u001b[0;34m,\u001b[0m\u001b[0;34m\u001b[0m\u001b[0;34m\u001b[0m\u001b[0m\n\u001b[0;32m--> 490\u001b[0;31m         use_multiprocessing=use_multiprocessing, **kwargs)\n\u001b[0m\u001b[1;32m    491\u001b[0m \u001b[0;34m\u001b[0m\u001b[0m\n\u001b[1;32m    492\u001b[0m   def predict(self, model, x, batch_size=None, verbose=0, steps=None,\n",
            "\u001b[0;32m/tensorflow-2.1.0/python3.6/tensorflow_core/python/keras/engine/training_v2.py\u001b[0m in \u001b[0;36m_model_iteration\u001b[0;34m(self, model, mode, x, y, batch_size, verbose, sample_weight, steps, callbacks, max_queue_size, workers, use_multiprocessing, **kwargs)\u001b[0m\n\u001b[1;32m    424\u001b[0m           \u001b[0mmax_queue_size\u001b[0m\u001b[0;34m=\u001b[0m\u001b[0mmax_queue_size\u001b[0m\u001b[0;34m,\u001b[0m\u001b[0;34m\u001b[0m\u001b[0;34m\u001b[0m\u001b[0m\n\u001b[1;32m    425\u001b[0m           \u001b[0mworkers\u001b[0m\u001b[0;34m=\u001b[0m\u001b[0mworkers\u001b[0m\u001b[0;34m,\u001b[0m\u001b[0;34m\u001b[0m\u001b[0;34m\u001b[0m\u001b[0m\n\u001b[0;32m--> 426\u001b[0;31m           use_multiprocessing=use_multiprocessing)\n\u001b[0m\u001b[1;32m    427\u001b[0m       \u001b[0mtotal_samples\u001b[0m \u001b[0;34m=\u001b[0m \u001b[0m_get_total_number_of_samples\u001b[0m\u001b[0;34m(\u001b[0m\u001b[0madapter\u001b[0m\u001b[0;34m)\u001b[0m\u001b[0;34m\u001b[0m\u001b[0;34m\u001b[0m\u001b[0m\n\u001b[1;32m    428\u001b[0m       \u001b[0muse_sample\u001b[0m \u001b[0;34m=\u001b[0m \u001b[0mtotal_samples\u001b[0m \u001b[0;32mis\u001b[0m \u001b[0;32mnot\u001b[0m \u001b[0;32mNone\u001b[0m\u001b[0;34m\u001b[0m\u001b[0;34m\u001b[0m\u001b[0m\n",
            "\u001b[0;32m/tensorflow-2.1.0/python3.6/tensorflow_core/python/keras/engine/training_v2.py\u001b[0m in \u001b[0;36m_process_inputs\u001b[0;34m(model, mode, x, y, batch_size, epochs, sample_weights, class_weights, shuffle, steps, distribution_strategy, max_queue_size, workers, use_multiprocessing)\u001b[0m\n\u001b[1;32m    644\u001b[0m     \u001b[0mstandardize_function\u001b[0m \u001b[0;34m=\u001b[0m \u001b[0;32mNone\u001b[0m\u001b[0;34m\u001b[0m\u001b[0;34m\u001b[0m\u001b[0m\n\u001b[1;32m    645\u001b[0m     x, y, sample_weights = standardize(\n\u001b[0;32m--> 646\u001b[0;31m         x, y, sample_weight=sample_weights)\n\u001b[0m\u001b[1;32m    647\u001b[0m   \u001b[0;32melif\u001b[0m \u001b[0madapter_cls\u001b[0m \u001b[0;32mis\u001b[0m \u001b[0mdata_adapter\u001b[0m\u001b[0;34m.\u001b[0m\u001b[0mListsOfScalarsDataAdapter\u001b[0m\u001b[0;34m:\u001b[0m\u001b[0;34m\u001b[0m\u001b[0;34m\u001b[0m\u001b[0m\n\u001b[1;32m    648\u001b[0m     \u001b[0mstandardize_function\u001b[0m \u001b[0;34m=\u001b[0m \u001b[0mstandardize\u001b[0m\u001b[0;34m\u001b[0m\u001b[0;34m\u001b[0m\u001b[0m\n",
            "\u001b[0;32m/tensorflow-2.1.0/python3.6/tensorflow_core/python/keras/engine/training.py\u001b[0m in \u001b[0;36m_standardize_user_data\u001b[0;34m(self, x, y, sample_weight, class_weight, batch_size, check_steps, steps_name, steps, validation_split, shuffle, extract_tensors_from_dataset)\u001b[0m\n\u001b[1;32m   2381\u001b[0m         \u001b[0mis_dataset\u001b[0m\u001b[0;34m=\u001b[0m\u001b[0mis_dataset\u001b[0m\u001b[0;34m,\u001b[0m\u001b[0;34m\u001b[0m\u001b[0;34m\u001b[0m\u001b[0m\n\u001b[1;32m   2382\u001b[0m         \u001b[0mclass_weight\u001b[0m\u001b[0;34m=\u001b[0m\u001b[0mclass_weight\u001b[0m\u001b[0;34m,\u001b[0m\u001b[0;34m\u001b[0m\u001b[0;34m\u001b[0m\u001b[0m\n\u001b[0;32m-> 2383\u001b[0;31m         batch_size=batch_size)\n\u001b[0m\u001b[1;32m   2384\u001b[0m \u001b[0;34m\u001b[0m\u001b[0m\n\u001b[1;32m   2385\u001b[0m   def _standardize_tensors(self, x, y, sample_weight, run_eagerly, dict_inputs,\n",
            "\u001b[0;32m/tensorflow-2.1.0/python3.6/tensorflow_core/python/keras/engine/training.py\u001b[0m in \u001b[0;36m_standardize_tensors\u001b[0;34m(self, x, y, sample_weight, run_eagerly, dict_inputs, is_dataset, class_weight, batch_size)\u001b[0m\n\u001b[1;32m   2487\u001b[0m           \u001b[0;31m# Additional checks to avoid users mistakenly using improper loss fns.\u001b[0m\u001b[0;34m\u001b[0m\u001b[0;34m\u001b[0m\u001b[0;34m\u001b[0m\u001b[0m\n\u001b[1;32m   2488\u001b[0m           training_utils.check_loss_and_target_compatibility(\n\u001b[0;32m-> 2489\u001b[0;31m               y, self._feed_loss_fns, feed_output_shapes)\n\u001b[0m\u001b[1;32m   2490\u001b[0m \u001b[0;34m\u001b[0m\u001b[0m\n\u001b[1;32m   2491\u001b[0m       sample_weights, _, _ = training_utils.handle_partial_sample_weights(\n",
            "\u001b[0;32m/tensorflow-2.1.0/python3.6/tensorflow_core/python/keras/engine/training_utils.py\u001b[0m in \u001b[0;36mcheck_loss_and_target_compatibility\u001b[0;34m(targets, loss_fns, output_shapes)\u001b[0m\n\u001b[1;32m    808\u001b[0m           raise ValueError('A target array with shape ' + str(y.shape) +\n\u001b[1;32m    809\u001b[0m                            \u001b[0;34m' was passed for an output of shape '\u001b[0m \u001b[0;34m+\u001b[0m \u001b[0mstr\u001b[0m\u001b[0;34m(\u001b[0m\u001b[0mshape\u001b[0m\u001b[0;34m)\u001b[0m \u001b[0;34m+\u001b[0m\u001b[0;34m\u001b[0m\u001b[0;34m\u001b[0m\u001b[0m\n\u001b[0;32m--> 810\u001b[0;31m                            \u001b[0;34m' while using as loss `'\u001b[0m \u001b[0;34m+\u001b[0m \u001b[0mloss_name\u001b[0m \u001b[0;34m+\u001b[0m \u001b[0;34m'`. '\u001b[0m\u001b[0;34m\u001b[0m\u001b[0;34m\u001b[0m\u001b[0m\n\u001b[0m\u001b[1;32m    811\u001b[0m                            \u001b[0;34m'This loss expects targets to have the same shape '\u001b[0m\u001b[0;34m\u001b[0m\u001b[0;34m\u001b[0m\u001b[0m\n\u001b[1;32m    812\u001b[0m                            'as the output.')\n",
            "\u001b[0;31mValueError\u001b[0m: A target array with shape (5809, 9) was passed for an output of shape (None, 15) while using as loss `categorical_crossentropy`. This loss expects targets to have the same shape as the output."
          ]
        }
      ]
    },
    {
      "cell_type": "code",
      "metadata": {
        "id": "FuIQXxs7J9YF",
        "colab_type": "code",
        "colab": {}
      },
      "source": [
        "#Menampilkan matriks yang benar dan matriks hasil prediksi\n",
        "\n",
        "#Label yang benar\n",
        "y_true = np.argmax(y_test2,axis=1)\n",
        "\n",
        "#Label prediksi\n",
        "Y_pred = model.predict(X_test)\n",
        "y_pred = np.argmax(Y_pred, axis=1)\n",
        "\n",
        "print(y_true)\n",
        "print(y_pred)"
      ],
      "execution_count": 0,
      "outputs": []
    },
    {
      "cell_type": "markdown",
      "metadata": {
        "id": "A7EbbjTEJmPs",
        "colab_type": "text"
      },
      "source": [
        "## Prediksi Gambar Individual"
      ]
    },
    {
      "cell_type": "code",
      "metadata": {
        "id": "jtXbaxUoJwIs",
        "colab_type": "code",
        "colab": {}
      },
      "source": [
        "n = 44 #Jangan melampaui (nilai dari gambar test - 1)\n",
        "\n",
        "plt.imshow(X_test[n])\n",
        "plt.show()\n",
        "\n",
        "true_label = np.argmax(y_test2,axis=1)[n]\n",
        "print(\"Label yang benar adalah:\",true_label,\":\",labels[true_label])\n",
        "prediction = model.predict(X_test[n][np.newaxis,...])[0]\n",
        "print(\"Nilai yang diprediksi adalah:\",prediction)\n",
        "predicted_label = np.argmax(prediction)\n",
        "print(\"Label yang diprediksi adalah:\",predicted_label,\":\",labels[predicted_label])\n",
        "\n",
        "if true_label == predicted_label:\n",
        "    print(\"Prediksi benar\")\n",
        "else:\n",
        "    print(\"Prediksi salah\")"
      ],
      "execution_count": 0,
      "outputs": []
    },
    {
      "cell_type": "markdown",
      "metadata": {
        "id": "r7ORE_1reP6J",
        "colab_type": "text"
      },
      "source": [
        "## *Confusion Matrix*"
      ]
    },
    {
      "cell_type": "code",
      "metadata": {
        "id": "GD-gesx5eWrP",
        "colab_type": "code",
        "colab": {}
      },
      "source": [
        "from sklearn.metrics import confusion_matrix\n",
        "from sklearn.utils.multiclass import unique_labels\n",
        "\n",
        "def plot_confusion_matrix(y_true, y_pred, classes,\n",
        "                          normalize=False,\n",
        "                          title=None,\n",
        "                          cmap=plt.cm.Blues):\n",
        "    \"\"\"\n",
        "    This function prints and plots the confusion matrix.\n",
        "    Normalization can be applied by setting `normalize=True`.\n",
        "    \"\"\"\n",
        "    if not title:\n",
        "        if normalize:\n",
        "            title = 'Normalized confusion matrix'\n",
        "        else:\n",
        "            title = 'Confusion matrix, without normalization'\n",
        "\n",
        "    # Compute confusion matrix\n",
        "    cm = confusion_matrix(y_true, y_pred)\n",
        "    # Only use the labels that appear in the data\n",
        "    #classes = classes[unique_labels(y_true, y_pred)]\n",
        "    if normalize:\n",
        "        cm = cm.astype('float') / cm.sum(axis=1)[:, np.newaxis]\n",
        "        print(\"Normalized confusion matrix\")\n",
        "    else:\n",
        "        print('Confusion matrix, without normalization')\n",
        "\n",
        "    print(cm)\n",
        "\n",
        "    fig, ax = plt.subplots(figsize=(5,5))\n",
        "    im = ax.imshow(cm, interpolation='nearest', cmap=cmap)\n",
        "    #ax.figure.colorbar(im, ax=ax)\n",
        "    # We want to show all ticks...\n",
        "    ax.set(xticks=np.arange(cm.shape[1]),\n",
        "           yticks=np.arange(cm.shape[0]),\n",
        "           # ... and label them with the respective list entries\n",
        "           xticklabels=classes, yticklabels=classes,\n",
        "           title=title,\n",
        "           ylabel='Label Benar',\n",
        "           xlabel='Label Prediksi')\n",
        "\n",
        "    # Rotate the tick labels and set their alignment.\n",
        "    plt.setp(ax.get_xticklabels(), rotation=45, ha=\"right\",\n",
        "             rotation_mode=\"anchor\")\n",
        "\n",
        "    # Loop over data dimensions and create text annotations.\n",
        "    fmt = '.2f' if normalize else 'd'\n",
        "    thresh = cm.max() / 2.\n",
        "    for i in range(cm.shape[0]):\n",
        "        for j in range(cm.shape[1]):\n",
        "            ax.text(j, i, format(cm[i, j], fmt),\n",
        "                    ha=\"center\", va=\"center\",\n",
        "                    color=\"white\" if cm[i, j] > thresh else \"black\")\n",
        "    fig.tight_layout()\n",
        "    return ax\n",
        "\n",
        "\n",
        "np.set_printoptions(precision=2)\n",
        "\n",
        "plot_confusion_matrix(y_true, y_pred, classes=labels, normalize=True,\n",
        "                      title='Normalized confusion matrix')"
      ],
      "execution_count": 0,
      "outputs": []
    },
    {
      "cell_type": "markdown",
      "metadata": {
        "id": "mwebZKdOiXvQ",
        "colab_type": "text"
      },
      "source": [
        "# Menyimpan dan Konversi ke \".tflite\""
      ]
    },
    {
      "cell_type": "markdown",
      "metadata": {
        "id": "3lLh9E8riyYZ",
        "colab_type": "text"
      },
      "source": [
        "Menyimpan model menggunakan tf.saved_model.save dan kemudian mengonversi model tersimpan ke format yang kompatibel tf lite."
      ]
    },
    {
      "cell_type": "code",
      "metadata": {
        "id": "G6Qxay0ei0jm",
        "colab_type": "code",
        "colab": {}
      },
      "source": [
        "saved_model_dir = 'save/model'\n",
        "tf.saved_model.save(model, saved_model_dir)\n",
        "\n",
        "converter = tf.lite.TFLiteConverter.from_saved_model(saved_model_dir)\n",
        "tflite_model = converter.convert()\n",
        "\n",
        "with open('Klasifikasi_3_Jenis_Beras.tflite', 'wb') as f:\n",
        "  f.write(tflite_model)"
      ],
      "execution_count": 0,
      "outputs": []
    }
  ]
}