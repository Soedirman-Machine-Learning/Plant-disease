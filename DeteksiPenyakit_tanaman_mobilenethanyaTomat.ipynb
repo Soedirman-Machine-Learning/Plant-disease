{
  "nbformat": 4,
  "nbformat_minor": 0,
  "metadata": {
    "colab": {
      "name": "DeteksiPenyakit_tanaman_mobilenetFE.ipynb",
      "provenance": [],
      "collapsed_sections": [],
      "toc_visible": true,
      "machine_shape": "hm",
      "include_colab_link": true
    },
    "kernelspec": {
      "name": "python3",
      "display_name": "Python 3"
    },
    "accelerator": "GPU"
  },
  "cells": [
    {
      "cell_type": "markdown",
      "metadata": {
        "id": "view-in-github",
        "colab_type": "text"
      },
      "source": [
        "<a href=\"https://colab.research.google.com/github/Soedirman-Machine-Learning/Plant-disease/blob/master/DeteksiPenyakit_tanaman_mobilenethanyaTomat.ipynb\" target=\"_parent\"><img src=\"https://colab.research.google.com/assets/colab-badge.svg\" alt=\"Open In Colab\"/></a>"
      ]
    },
    {
      "cell_type": "markdown",
      "metadata": {
        "id": "x6JoE4rdE9ae",
        "colab_type": "text"
      },
      "source": [
        "# **Identfikasi Penyakit Tanaman Pada Daun Tomat dan Daun Singkong**"
      ]
    },
    {
      "cell_type": "markdown",
      "metadata": {
        "id": "hxlu9J0UFEbb",
        "colab_type": "text"
      },
      "source": [
        "### Melatih Model Diagnosis Penyakit Tumbuhan dengan Dataset"
      ]
    },
    {
      "cell_type": "code",
      "metadata": {
        "id": "vv_CFDFPE2BJ",
        "colab_type": "code",
        "outputId": "db404918-05ac-4c22-bf6b-8993b12a0254",
        "colab": {
          "base_uri": "https://localhost:8080/",
          "height": 52
        }
      },
      "source": [
        "from __future__ import absolute_import, division, print_function, unicode_literals\n",
        "\n",
        "try:\n",
        "  # The %tensorflow_version magic only works in colab.\n",
        "  %tensorflow_version 2.x\n",
        "except Exception:\n",
        "  pass\n",
        "import numpy as np \n",
        "import math, os, sys\n",
        "import itertools\n",
        "\n",
        "import matplotlib.pyplot as plt\n",
        "plt.style.use('default')\n",
        "from scipy import ndimage\n",
        "\n",
        "from skimage import measure, morphology\n",
        "from skimage.io import imsave, imread\n",
        "from skimage.filters import threshold_otsu\n",
        "from skimage.transform import resize\n",
        "\n",
        "import tensorflow as tf\n",
        "from sklearn import svm, datasets\n",
        "from sklearn.metrics import confusion_matrix\n",
        "import pandas as pd\n",
        "\n",
        "import keras\n",
        "from keras import backend as K\n",
        "from keras.models import Sequential\n",
        "from keras import layers\n",
        "from keras.utils.np_utils import to_categorical\n",
        "\n",
        "from sklearn.model_selection import train_test_split"
      ],
      "execution_count": 1,
      "outputs": [
        {
          "output_type": "stream",
          "text": [
            "TensorFlow 2.x selected.\n"
          ],
          "name": "stdout"
        },
        {
          "output_type": "stream",
          "text": [
            "Using TensorFlow backend.\n"
          ],
          "name": "stderr"
        }
      ]
    },
    {
      "cell_type": "markdown",
      "metadata": {
        "id": "r9hD24Q7uaMn",
        "colab_type": "text"
      },
      "source": [
        "# **Tahap Persiapan**"
      ]
    },
    {
      "cell_type": "markdown",
      "metadata": {
        "id": "vIOQbP-sZsa8",
        "colab_type": "text"
      },
      "source": [
        "###Pengambilan dataset"
      ]
    },
    {
      "cell_type": "code",
      "metadata": {
        "id": "f_aICNeDuobz",
        "colab_type": "code",
        "colab": {}
      },
      "source": [
        "!apt-get install subversion > /dev/null\n",
        "\n",
        "!svn export https://github.com/spMohanty/PlantVillage-Dataset/trunk/raw/color/Tomato___Bacterial_spot image/Tomato___Bacterial_spot　>  /dev/null\n",
        "!svn export https://github.com/spMohanty/PlantVillage-Dataset/trunk/raw/color/Tomato___Early_blight image/Tomato___Early_blight　>  /dev/null\n",
        "!svn export https://github.com/spMohanty/PlantVillage-Dataset/trunk/raw/color/Tomato___Late_blight image/Tomato___Late_blight　>  /dev/null\n",
        "!svn export https://github.com/spMohanty/PlantVillage-Dataset/trunk/raw/color/Tomato___Septoria_leaf_spot image/Tomato___Septoria_leaf_spot　>  /dev/null\n",
        "!svn export https://github.com/spMohanty/PlantVillage-Dataset/trunk/raw/color/Tomato___Target_Spot image/Tomato___Target_Spot　>  /dev/null\n",
        "!svn export https://github.com/spMohanty/PlantVillage-Dataset/trunk/raw/color/Tomato___healthy image/Tomato___healthy　>  /dev/null\n",
        "!svn export https://github.com/spMohanty/PlantVillage-Dataset/trunk/raw/color/Tomato___Tomato_mosaic_virus image/Tomato___mosaic_virus >  /dev/null\n",
        "!svn export https://github.com/spMohanty/PlantVillage-Dataset/trunk/raw/color/Tomato___Spider_mites%20Two-spotted_spider_mite image/Tomato___Spider_mites_20Two-spotted_spider_mite >  /dev/null\n",
        "!svn export https://github.com/spMohanty/PlantVillage-Dataset/trunk/raw/color/Tomato___Leaf_Mold image/Tomato___Leaf_Mold >  /dev/null\n",
        "!svn export https://github.com/spMohanty/PlantVillage-Dataset/trunk/raw/color/Tomato___Tomato_Yellow_Leaf_Curl_Virus image/Tomato___Yellow_Leaf_Curl_Virus >  /dev/null"
      ],
      "execution_count": 0,
      "outputs": []
    },
    {
      "cell_type": "code",
      "metadata": {
        "id": "W_oxMl_MLoQw",
        "colab_type": "code",
        "outputId": "89e382a7-5e99-41b9-a407-108eb3a90ff9",
        "colab": {
          "base_uri": "https://localhost:8080/",
          "height": 104
        }
      },
      "source": [
        "#Perintah di bawah ini untuk melihat list bagian dari file yang sudah diunduh dari Github\n",
        "!ls image"
      ],
      "execution_count": 3,
      "outputs": [
        {
          "output_type": "stream",
          "text": [
            "Tomato___Bacterial_spot　  Tomato___mosaic_virus\n",
            "Tomato___Early_blight　    Tomato___Septoria_leaf_spot　\n",
            "Tomato___healthy　\t   Tomato___Spider_mites_20Two-spotted_spider_mite\n",
            "Tomato___Late_blight　\t   Tomato___Target_Spot　\n",
            "Tomato___Leaf_Mold\t   Tomato___Yellow_Leaf_Curl_Virus\n"
          ],
          "name": "stdout"
        }
      ]
    },
    {
      "cell_type": "code",
      "metadata": {
        "id": "iHNV81ptRQD1",
        "colab_type": "code",
        "outputId": "4e55bdc6-db63-4b0a-9c05-3c0804b5f4cc",
        "colab": {
          "base_uri": "https://localhost:8080/",
          "height": 104
        }
      },
      "source": [
        "IMAGE_SIZE = 64\n",
        "BATCH_SIZE = 128\n",
        "base_dir = os.path.join('image')\n",
        "\n",
        "datagen = tf.keras.preprocessing.image.ImageDataGenerator(\n",
        "    rescale=1./255, \n",
        "    validation_split=0.2)\n",
        "\n",
        "train_generator = datagen.flow_from_directory(\n",
        "    base_dir,\n",
        "    target_size=(IMAGE_SIZE, IMAGE_SIZE),\n",
        "    batch_size=BATCH_SIZE, \n",
        "    subset='training')\n",
        "\n",
        "val_generator = datagen.flow_from_directory(\n",
        "    base_dir,\n",
        "    target_size=(IMAGE_SIZE, IMAGE_SIZE),\n",
        "    batch_size=BATCH_SIZE, \n",
        "    subset='validation')\n",
        "\n",
        "#Memuat dataset pengujian\n",
        "X_test = []\n",
        "y_test = []\n",
        "labels = ['Tomato___Bacterial_spot　','Tomato___Early_blight　','Tomato___healthy　','Tomato___Late_blight　','Tomato___Leaf_Mold','Tomato___mosaic_virus','Tomato___Septoria_leaf_spot　','Tomato___Spider_mites_20Two-spotted_spider_mite','Tomato___Target_Spot　','Tomato___Yellow_Leaf_Curl_Virus']\n",
        "for i,label in enumerate(labels):\n",
        "    folder = os.path.join(\"image\",label)\n",
        "    files = sorted(os.listdir(folder))\n",
        "    files = [x for x in files if x.endswith(\".jpg\")]\n",
        "    for k,file in enumerate(files):\n",
        "        image_path = os.path.join(folder, file)\n",
        "        \n",
        "        image = imread(image_path)/255.\n",
        "        image = resize(image,(64,64))\n",
        "        X_test.append(image)\n",
        "        category = os.path.split(folder)[-1]\n",
        "        y_test.append(i)\n",
        "\n",
        "X_test = np.array(X_test)\n",
        "y_test = np.array(y_test)\n",
        "\n",
        "#Menampilkan bentuk dari masing-masing dataset\n",
        "for image_batch, label_batch in train_generator:\n",
        "  break\n",
        "print(\"Bentuk array dari dataset train (pelatihan) adalah:\", image_batch.shape,label_batch.shape)\n",
        "for image_batch, label_batch in val_generator:\n",
        "  break\n",
        "print(\"Bentuk array dari dataset validation (validasi) adalah:\", image_batch.shape,label_batch.shape)\n",
        "print(\"Bentuk array dari dataset test (pengujian) adalah:\", X_test.shape,y_test.shape)"
      ],
      "execution_count": 4,
      "outputs": [
        {
          "output_type": "stream",
          "text": [
            "Found 14532 images belonging to 10 classes.\n",
            "Found 3628 images belonging to 10 classes.\n",
            "Bentuk array dari dataset train (pelatihan) adalah: (128, 64, 64, 3) (128, 10)\n",
            "Bentuk array dari dataset validation (validasi) adalah: (128, 64, 64, 3) (128, 10)\n",
            "Bentuk array dari dataset test (pengujian) adalah: (153, 64, 64, 3) (153,)\n"
          ],
          "name": "stdout"
        }
      ]
    },
    {
      "cell_type": "code",
      "metadata": {
        "id": "Rd1EDl97T7tE",
        "colab_type": "code",
        "colab": {
          "base_uri": "https://localhost:8080/",
          "height": 54
        },
        "outputId": "708e4773-88c9-4b1d-b719-1034a72b3430"
      },
      "source": [
        "print (train_generator.class_indices)\n",
        "\n",
        "labels_txt = '\\n'.join(sorted(train_generator.class_indices.keys()))\n",
        "\n",
        "with open('labels.txt', 'w') as f:\n",
        "  f.write(labels_txt)"
      ],
      "execution_count": 5,
      "outputs": [
        {
          "output_type": "stream",
          "text": [
            "{'Tomato___Bacterial_spot\\u3000': 0, 'Tomato___Early_blight\\u3000': 1, 'Tomato___Late_blight\\u3000': 2, 'Tomato___Leaf_Mold': 3, 'Tomato___Septoria_leaf_spot\\u3000': 4, 'Tomato___Spider_mites_20Two-spotted_spider_mite': 5, 'Tomato___Target_Spot\\u3000': 6, 'Tomato___Yellow_Leaf_Curl_Virus': 7, 'Tomato___healthy\\u3000': 8, 'Tomato___mosaic_virus': 9}\n"
          ],
          "name": "stdout"
        }
      ]
    },
    {
      "cell_type": "code",
      "metadata": {
        "id": "-QgRw5XsRKzl",
        "colab_type": "code",
        "colab": {
          "base_uri": "https://localhost:8080/",
          "height": 190
        },
        "outputId": "d3f5cba4-cf3d-47a1-a7fa-e968a9773160"
      },
      "source": [
        "!cat labels.txt"
      ],
      "execution_count": 6,
      "outputs": [
        {
          "output_type": "stream",
          "text": [
            "Tomato___Bacterial_spot　\n",
            "Tomato___Early_blight　\n",
            "Tomato___Late_blight　\n",
            "Tomato___Leaf_Mold\n",
            "Tomato___Septoria_leaf_spot　\n",
            "Tomato___Spider_mites_20Two-spotted_spider_mite\n",
            "Tomato___Target_Spot　\n",
            "Tomato___Yellow_Leaf_Curl_Virus\n",
            "Tomato___healthy　\n",
            "Tomato___mosaic_virus"
          ],
          "name": "stdout"
        }
      ]
    },
    {
      "cell_type": "markdown",
      "metadata": {
        "id": "s2QUH924ypzT",
        "colab_type": "text"
      },
      "source": [
        "# Pembuatan Arsitektur CNN"
      ]
    },
    {
      "cell_type": "code",
      "metadata": {
        "id": "b-pI1d12yoI1",
        "colab_type": "code",
        "colab": {
          "base_uri": "https://localhost:8080/",
          "height": 106
        },
        "outputId": "7434d94a-34c1-43f4-9651-489909638803"
      },
      "source": [
        "IMG_SHAPE = (64, 64, 3)\n",
        "# Membuat model dasar (base model) dari pre-trained model MobileNet\n",
        "base_model = tf.keras.applications.MobileNet(input_shape=IMG_SHAPE,\n",
        "                                              include_top=False, \n",
        "                                              weights='imagenet')"
      ],
      "execution_count": 7,
      "outputs": [
        {
          "output_type": "stream",
          "text": [
            "/tensorflow-2.1.0/python3.6/keras_applications/mobilenet.py:207: UserWarning: `input_shape` is undefined or non-square, or `rows` is not in [128, 160, 192, 224]. Weights for input shape (224, 224) will be loaded as the default.\n",
            "  warnings.warn('`input_shape` is undefined or non-square, '\n"
          ],
          "name": "stderr"
        },
        {
          "output_type": "stream",
          "text": [
            "Downloading data from https://github.com/fchollet/deep-learning-models/releases/download/v0.6/mobilenet_1_0_224_tf_no_top.h5\n",
            "17227776/17225924 [==============================] - 2s 0us/step\n"
          ],
          "name": "stdout"
        }
      ]
    },
    {
      "cell_type": "markdown",
      "metadata": {
        "id": "Zo1tkiE5y1YO",
        "colab_type": "text"
      },
      "source": [
        "## *Feature Extraction*"
      ]
    },
    {
      "cell_type": "code",
      "metadata": {
        "id": "7x6z_yG8y5Xh",
        "colab_type": "code",
        "colab": {
          "base_uri": "https://localhost:8080/",
          "height": 1000
        },
        "outputId": "e252c834-685f-4312-b883-63e1db54018e"
      },
      "source": [
        "base_model.trainable = False\n",
        "base_model.summary()"
      ],
      "execution_count": 8,
      "outputs": [
        {
          "output_type": "stream",
          "text": [
            "Model: \"mobilenet_1.00_224\"\n",
            "_________________________________________________________________\n",
            "Layer (type)                 Output Shape              Param #   \n",
            "=================================================================\n",
            "input_1 (InputLayer)         [(None, 64, 64, 3)]       0         \n",
            "_________________________________________________________________\n",
            "conv1_pad (ZeroPadding2D)    (None, 65, 65, 3)         0         \n",
            "_________________________________________________________________\n",
            "conv1 (Conv2D)               (None, 32, 32, 32)        864       \n",
            "_________________________________________________________________\n",
            "conv1_bn (BatchNormalization (None, 32, 32, 32)        128       \n",
            "_________________________________________________________________\n",
            "conv1_relu (ReLU)            (None, 32, 32, 32)        0         \n",
            "_________________________________________________________________\n",
            "conv_dw_1 (DepthwiseConv2D)  (None, 32, 32, 32)        288       \n",
            "_________________________________________________________________\n",
            "conv_dw_1_bn (BatchNormaliza (None, 32, 32, 32)        128       \n",
            "_________________________________________________________________\n",
            "conv_dw_1_relu (ReLU)        (None, 32, 32, 32)        0         \n",
            "_________________________________________________________________\n",
            "conv_pw_1 (Conv2D)           (None, 32, 32, 64)        2048      \n",
            "_________________________________________________________________\n",
            "conv_pw_1_bn (BatchNormaliza (None, 32, 32, 64)        256       \n",
            "_________________________________________________________________\n",
            "conv_pw_1_relu (ReLU)        (None, 32, 32, 64)        0         \n",
            "_________________________________________________________________\n",
            "conv_pad_2 (ZeroPadding2D)   (None, 33, 33, 64)        0         \n",
            "_________________________________________________________________\n",
            "conv_dw_2 (DepthwiseConv2D)  (None, 16, 16, 64)        576       \n",
            "_________________________________________________________________\n",
            "conv_dw_2_bn (BatchNormaliza (None, 16, 16, 64)        256       \n",
            "_________________________________________________________________\n",
            "conv_dw_2_relu (ReLU)        (None, 16, 16, 64)        0         \n",
            "_________________________________________________________________\n",
            "conv_pw_2 (Conv2D)           (None, 16, 16, 128)       8192      \n",
            "_________________________________________________________________\n",
            "conv_pw_2_bn (BatchNormaliza (None, 16, 16, 128)       512       \n",
            "_________________________________________________________________\n",
            "conv_pw_2_relu (ReLU)        (None, 16, 16, 128)       0         \n",
            "_________________________________________________________________\n",
            "conv_dw_3 (DepthwiseConv2D)  (None, 16, 16, 128)       1152      \n",
            "_________________________________________________________________\n",
            "conv_dw_3_bn (BatchNormaliza (None, 16, 16, 128)       512       \n",
            "_________________________________________________________________\n",
            "conv_dw_3_relu (ReLU)        (None, 16, 16, 128)       0         \n",
            "_________________________________________________________________\n",
            "conv_pw_3 (Conv2D)           (None, 16, 16, 128)       16384     \n",
            "_________________________________________________________________\n",
            "conv_pw_3_bn (BatchNormaliza (None, 16, 16, 128)       512       \n",
            "_________________________________________________________________\n",
            "conv_pw_3_relu (ReLU)        (None, 16, 16, 128)       0         \n",
            "_________________________________________________________________\n",
            "conv_pad_4 (ZeroPadding2D)   (None, 17, 17, 128)       0         \n",
            "_________________________________________________________________\n",
            "conv_dw_4 (DepthwiseConv2D)  (None, 8, 8, 128)         1152      \n",
            "_________________________________________________________________\n",
            "conv_dw_4_bn (BatchNormaliza (None, 8, 8, 128)         512       \n",
            "_________________________________________________________________\n",
            "conv_dw_4_relu (ReLU)        (None, 8, 8, 128)         0         \n",
            "_________________________________________________________________\n",
            "conv_pw_4 (Conv2D)           (None, 8, 8, 256)         32768     \n",
            "_________________________________________________________________\n",
            "conv_pw_4_bn (BatchNormaliza (None, 8, 8, 256)         1024      \n",
            "_________________________________________________________________\n",
            "conv_pw_4_relu (ReLU)        (None, 8, 8, 256)         0         \n",
            "_________________________________________________________________\n",
            "conv_dw_5 (DepthwiseConv2D)  (None, 8, 8, 256)         2304      \n",
            "_________________________________________________________________\n",
            "conv_dw_5_bn (BatchNormaliza (None, 8, 8, 256)         1024      \n",
            "_________________________________________________________________\n",
            "conv_dw_5_relu (ReLU)        (None, 8, 8, 256)         0         \n",
            "_________________________________________________________________\n",
            "conv_pw_5 (Conv2D)           (None, 8, 8, 256)         65536     \n",
            "_________________________________________________________________\n",
            "conv_pw_5_bn (BatchNormaliza (None, 8, 8, 256)         1024      \n",
            "_________________________________________________________________\n",
            "conv_pw_5_relu (ReLU)        (None, 8, 8, 256)         0         \n",
            "_________________________________________________________________\n",
            "conv_pad_6 (ZeroPadding2D)   (None, 9, 9, 256)         0         \n",
            "_________________________________________________________________\n",
            "conv_dw_6 (DepthwiseConv2D)  (None, 4, 4, 256)         2304      \n",
            "_________________________________________________________________\n",
            "conv_dw_6_bn (BatchNormaliza (None, 4, 4, 256)         1024      \n",
            "_________________________________________________________________\n",
            "conv_dw_6_relu (ReLU)        (None, 4, 4, 256)         0         \n",
            "_________________________________________________________________\n",
            "conv_pw_6 (Conv2D)           (None, 4, 4, 512)         131072    \n",
            "_________________________________________________________________\n",
            "conv_pw_6_bn (BatchNormaliza (None, 4, 4, 512)         2048      \n",
            "_________________________________________________________________\n",
            "conv_pw_6_relu (ReLU)        (None, 4, 4, 512)         0         \n",
            "_________________________________________________________________\n",
            "conv_dw_7 (DepthwiseConv2D)  (None, 4, 4, 512)         4608      \n",
            "_________________________________________________________________\n",
            "conv_dw_7_bn (BatchNormaliza (None, 4, 4, 512)         2048      \n",
            "_________________________________________________________________\n",
            "conv_dw_7_relu (ReLU)        (None, 4, 4, 512)         0         \n",
            "_________________________________________________________________\n",
            "conv_pw_7 (Conv2D)           (None, 4, 4, 512)         262144    \n",
            "_________________________________________________________________\n",
            "conv_pw_7_bn (BatchNormaliza (None, 4, 4, 512)         2048      \n",
            "_________________________________________________________________\n",
            "conv_pw_7_relu (ReLU)        (None, 4, 4, 512)         0         \n",
            "_________________________________________________________________\n",
            "conv_dw_8 (DepthwiseConv2D)  (None, 4, 4, 512)         4608      \n",
            "_________________________________________________________________\n",
            "conv_dw_8_bn (BatchNormaliza (None, 4, 4, 512)         2048      \n",
            "_________________________________________________________________\n",
            "conv_dw_8_relu (ReLU)        (None, 4, 4, 512)         0         \n",
            "_________________________________________________________________\n",
            "conv_pw_8 (Conv2D)           (None, 4, 4, 512)         262144    \n",
            "_________________________________________________________________\n",
            "conv_pw_8_bn (BatchNormaliza (None, 4, 4, 512)         2048      \n",
            "_________________________________________________________________\n",
            "conv_pw_8_relu (ReLU)        (None, 4, 4, 512)         0         \n",
            "_________________________________________________________________\n",
            "conv_dw_9 (DepthwiseConv2D)  (None, 4, 4, 512)         4608      \n",
            "_________________________________________________________________\n",
            "conv_dw_9_bn (BatchNormaliza (None, 4, 4, 512)         2048      \n",
            "_________________________________________________________________\n",
            "conv_dw_9_relu (ReLU)        (None, 4, 4, 512)         0         \n",
            "_________________________________________________________________\n",
            "conv_pw_9 (Conv2D)           (None, 4, 4, 512)         262144    \n",
            "_________________________________________________________________\n",
            "conv_pw_9_bn (BatchNormaliza (None, 4, 4, 512)         2048      \n",
            "_________________________________________________________________\n",
            "conv_pw_9_relu (ReLU)        (None, 4, 4, 512)         0         \n",
            "_________________________________________________________________\n",
            "conv_dw_10 (DepthwiseConv2D) (None, 4, 4, 512)         4608      \n",
            "_________________________________________________________________\n",
            "conv_dw_10_bn (BatchNormaliz (None, 4, 4, 512)         2048      \n",
            "_________________________________________________________________\n",
            "conv_dw_10_relu (ReLU)       (None, 4, 4, 512)         0         \n",
            "_________________________________________________________________\n",
            "conv_pw_10 (Conv2D)          (None, 4, 4, 512)         262144    \n",
            "_________________________________________________________________\n",
            "conv_pw_10_bn (BatchNormaliz (None, 4, 4, 512)         2048      \n",
            "_________________________________________________________________\n",
            "conv_pw_10_relu (ReLU)       (None, 4, 4, 512)         0         \n",
            "_________________________________________________________________\n",
            "conv_dw_11 (DepthwiseConv2D) (None, 4, 4, 512)         4608      \n",
            "_________________________________________________________________\n",
            "conv_dw_11_bn (BatchNormaliz (None, 4, 4, 512)         2048      \n",
            "_________________________________________________________________\n",
            "conv_dw_11_relu (ReLU)       (None, 4, 4, 512)         0         \n",
            "_________________________________________________________________\n",
            "conv_pw_11 (Conv2D)          (None, 4, 4, 512)         262144    \n",
            "_________________________________________________________________\n",
            "conv_pw_11_bn (BatchNormaliz (None, 4, 4, 512)         2048      \n",
            "_________________________________________________________________\n",
            "conv_pw_11_relu (ReLU)       (None, 4, 4, 512)         0         \n",
            "_________________________________________________________________\n",
            "conv_pad_12 (ZeroPadding2D)  (None, 5, 5, 512)         0         \n",
            "_________________________________________________________________\n",
            "conv_dw_12 (DepthwiseConv2D) (None, 2, 2, 512)         4608      \n",
            "_________________________________________________________________\n",
            "conv_dw_12_bn (BatchNormaliz (None, 2, 2, 512)         2048      \n",
            "_________________________________________________________________\n",
            "conv_dw_12_relu (ReLU)       (None, 2, 2, 512)         0         \n",
            "_________________________________________________________________\n",
            "conv_pw_12 (Conv2D)          (None, 2, 2, 1024)        524288    \n",
            "_________________________________________________________________\n",
            "conv_pw_12_bn (BatchNormaliz (None, 2, 2, 1024)        4096      \n",
            "_________________________________________________________________\n",
            "conv_pw_12_relu (ReLU)       (None, 2, 2, 1024)        0         \n",
            "_________________________________________________________________\n",
            "conv_dw_13 (DepthwiseConv2D) (None, 2, 2, 1024)        9216      \n",
            "_________________________________________________________________\n",
            "conv_dw_13_bn (BatchNormaliz (None, 2, 2, 1024)        4096      \n",
            "_________________________________________________________________\n",
            "conv_dw_13_relu (ReLU)       (None, 2, 2, 1024)        0         \n",
            "_________________________________________________________________\n",
            "conv_pw_13 (Conv2D)          (None, 2, 2, 1024)        1048576   \n",
            "_________________________________________________________________\n",
            "conv_pw_13_bn (BatchNormaliz (None, 2, 2, 1024)        4096      \n",
            "_________________________________________________________________\n",
            "conv_pw_13_relu (ReLU)       (None, 2, 2, 1024)        0         \n",
            "=================================================================\n",
            "Total params: 3,228,864\n",
            "Trainable params: 0\n",
            "Non-trainable params: 3,228,864\n",
            "_________________________________________________________________\n"
          ],
          "name": "stdout"
        }
      ]
    },
    {
      "cell_type": "markdown",
      "metadata": {
        "id": "4MPDz6JD_L2B",
        "colab_type": "text"
      },
      "source": [
        "# Pelatihan Data"
      ]
    },
    {
      "cell_type": "markdown",
      "metadata": {
        "id": "49atXcXNGdvk",
        "colab_type": "text"
      },
      "source": [
        "## Mempersiapkan Data Masukkan Pengujian"
      ]
    },
    {
      "cell_type": "code",
      "metadata": {
        "id": "P_FAIt4T1rNS",
        "colab_type": "code",
        "colab": {}
      },
      "source": [
        "y_test2 = to_categorical(y_test)\n",
        "X_test3, y_test3 = (X_test, y_test2)"
      ],
      "execution_count": 0,
      "outputs": []
    },
    {
      "cell_type": "markdown",
      "metadata": {
        "id": "A5kWA1jHA3XI",
        "colab_type": "text"
      },
      "source": [
        "## Pembuatan Model (Menambah Model)"
      ]
    },
    {
      "cell_type": "code",
      "metadata": {
        "id": "vDhGQRAvA5Wn",
        "colab_type": "code",
        "colab": {
          "base_uri": "https://localhost:8080/",
          "height": 641
        },
        "outputId": "0c28ec76-1324-4ea0-9b32-232b9035786f"
      },
      "source": [
        "model = tf.keras.Sequential([\n",
        "    base_model,  \n",
        "    tf.keras.layers.Conv2D(16,(3,3),name=\"conv1\",input_shape=(64,64,3),activation=\"relu\",padding=\"same\"),   \n",
        "    #tf.keras.layers.MaxPool2D((2,2),name=\"pool1\"),\n",
        "    tf.keras.layers.Dropout(0.05),\n",
        "    tf.keras.layers.Conv2D(32,(3,3),name=\"conv2\",padding=\"same\"),\n",
        "    tf.keras.layers.Activation(\"relu\"),\n",
        "    #tf.keras.layers.MaxPool2D((2,2),name=\"pool2\"),\n",
        "    tf.keras.layers.Dropout(0.05),\n",
        "    tf.keras.layers.Conv2D(32,(3,3),name=\"conv3\",padding=\"same\"),\n",
        "    tf.keras.layers.Activation(\"relu\"),\n",
        "    #tf.keras.layers.MaxPool2D((2,2),name=\"pool3\"),\n",
        "    tf.keras.layers.Dropout(0.05),\n",
        "    tf.keras.layers.Flatten(),\n",
        "    tf.keras.layers.Dense(64,activation=\"relu\"),\n",
        "    tf.keras.layers.Dropout(0.05),\n",
        "    tf.keras.layers.Dense(10),\n",
        "    tf.keras.layers.Activation(\"sigmoid\",name=\"prediction\")\n",
        "]\n",
        ")\n",
        "\n",
        "model.compile(optimizer=\"adam\",loss=\"binary_crossentropy\",metrics=[\"acc\"])\n",
        "\n",
        "model.summary()"
      ],
      "execution_count": 10,
      "outputs": [
        {
          "output_type": "stream",
          "text": [
            "Model: \"sequential\"\n",
            "_________________________________________________________________\n",
            "Layer (type)                 Output Shape              Param #   \n",
            "=================================================================\n",
            "mobilenet_1.00_224 (Model)   (None, 2, 2, 1024)        3228864   \n",
            "_________________________________________________________________\n",
            "conv1 (Conv2D)               (None, 2, 2, 16)          147472    \n",
            "_________________________________________________________________\n",
            "dropout (Dropout)            (None, 2, 2, 16)          0         \n",
            "_________________________________________________________________\n",
            "conv2 (Conv2D)               (None, 2, 2, 32)          4640      \n",
            "_________________________________________________________________\n",
            "activation (Activation)      (None, 2, 2, 32)          0         \n",
            "_________________________________________________________________\n",
            "dropout_1 (Dropout)          (None, 2, 2, 32)          0         \n",
            "_________________________________________________________________\n",
            "conv3 (Conv2D)               (None, 2, 2, 32)          9248      \n",
            "_________________________________________________________________\n",
            "activation_1 (Activation)    (None, 2, 2, 32)          0         \n",
            "_________________________________________________________________\n",
            "dropout_2 (Dropout)          (None, 2, 2, 32)          0         \n",
            "_________________________________________________________________\n",
            "flatten (Flatten)            (None, 128)               0         \n",
            "_________________________________________________________________\n",
            "dense (Dense)                (None, 64)                8256      \n",
            "_________________________________________________________________\n",
            "dropout_3 (Dropout)          (None, 64)                0         \n",
            "_________________________________________________________________\n",
            "dense_1 (Dense)              (None, 10)                650       \n",
            "_________________________________________________________________\n",
            "prediction (Activation)      (None, 10)                0         \n",
            "=================================================================\n",
            "Total params: 3,399,130\n",
            "Trainable params: 170,266\n",
            "Non-trainable params: 3,228,864\n",
            "_________________________________________________________________\n"
          ],
          "name": "stdout"
        }
      ]
    },
    {
      "cell_type": "markdown",
      "metadata": {
        "id": "9YUZJT7wDpHF",
        "colab_type": "text"
      },
      "source": [
        "## Pelatihan"
      ]
    },
    {
      "cell_type": "code",
      "metadata": {
        "id": "6ONTwfhBDrC6",
        "colab_type": "code",
        "colab": {
          "base_uri": "https://localhost:8080/",
          "height": 1000
        },
        "outputId": "2a530acc-d659-43d7-a02f-f752e67fbfe5"
      },
      "source": [
        "history = model.fit_generator(train_generator, \n",
        "                    epochs=50, \n",
        "                    validation_data=val_generator)\n"
      ],
      "execution_count": 11,
      "outputs": [
        {
          "output_type": "stream",
          "text": [
            "WARNING:tensorflow:From <ipython-input-11-8a4e592da975>:3: Model.fit_generator (from tensorflow.python.keras.engine.training) is deprecated and will be removed in a future version.\n",
            "Instructions for updating:\n",
            "Please use Model.fit, which supports generators.\n",
            "WARNING:tensorflow:sample_weight modes were coerced from\n",
            "  ...\n",
            "    to  \n",
            "  ['...']\n",
            "WARNING:tensorflow:sample_weight modes were coerced from\n",
            "  ...\n",
            "    to  \n",
            "  ['...']\n",
            "Train for 114 steps, validate for 29 steps\n",
            "Epoch 1/50\n",
            "114/114 [==============================] - 30s 264ms/step - loss: 0.2338 - acc: 0.9189 - val_loss: 0.2250 - val_acc: 0.9201\n",
            "Epoch 2/50\n",
            "114/114 [==============================] - 23s 199ms/step - loss: 0.1350 - acc: 0.9489 - val_loss: 0.2531 - val_acc: 0.9115\n",
            "Epoch 3/50\n",
            "114/114 [==============================] - 22s 197ms/step - loss: 0.1027 - acc: 0.9611 - val_loss: 0.2662 - val_acc: 0.9101\n",
            "Epoch 4/50\n",
            "114/114 [==============================] - 22s 195ms/step - loss: 0.0795 - acc: 0.9706 - val_loss: 0.2992 - val_acc: 0.9036\n",
            "Epoch 5/50\n",
            "114/114 [==============================] - 23s 200ms/step - loss: 0.0614 - acc: 0.9773 - val_loss: 0.3505 - val_acc: 0.8962\n",
            "Epoch 6/50\n",
            "114/114 [==============================] - 22s 196ms/step - loss: 0.0446 - acc: 0.9842 - val_loss: 0.3713 - val_acc: 0.8921\n",
            "Epoch 7/50\n",
            "114/114 [==============================] - 22s 197ms/step - loss: 0.0343 - acc: 0.9880 - val_loss: 0.3921 - val_acc: 0.8936\n",
            "Epoch 8/50\n",
            "114/114 [==============================] - 23s 199ms/step - loss: 0.0259 - acc: 0.9910 - val_loss: 0.4767 - val_acc: 0.8894\n",
            "Epoch 9/50\n",
            "114/114 [==============================] - 23s 199ms/step - loss: 0.0232 - acc: 0.9916 - val_loss: 0.4620 - val_acc: 0.8874\n",
            "Epoch 10/50\n",
            "114/114 [==============================] - 23s 198ms/step - loss: 0.0197 - acc: 0.9933 - val_loss: 0.4565 - val_acc: 0.8947\n",
            "Epoch 11/50\n",
            "114/114 [==============================] - 22s 197ms/step - loss: 0.0180 - acc: 0.9939 - val_loss: 0.5170 - val_acc: 0.8888\n",
            "Epoch 12/50\n",
            "114/114 [==============================] - 22s 195ms/step - loss: 0.0156 - acc: 0.9951 - val_loss: 0.5394 - val_acc: 0.8908\n",
            "Epoch 13/50\n",
            "114/114 [==============================] - 23s 199ms/step - loss: 0.0155 - acc: 0.9947 - val_loss: 0.6183 - val_acc: 0.8847\n",
            "Epoch 14/50\n",
            "114/114 [==============================] - 23s 199ms/step - loss: 0.0139 - acc: 0.9954 - val_loss: 0.5400 - val_acc: 0.8908\n",
            "Epoch 15/50\n",
            "114/114 [==============================] - 22s 197ms/step - loss: 0.0125 - acc: 0.9958 - val_loss: 0.5665 - val_acc: 0.8886\n",
            "Epoch 16/50\n",
            "114/114 [==============================] - 23s 199ms/step - loss: 0.0125 - acc: 0.9960 - val_loss: 0.5637 - val_acc: 0.8878\n",
            "Epoch 17/50\n",
            "114/114 [==============================] - 22s 195ms/step - loss: 0.0110 - acc: 0.9962 - val_loss: 0.5921 - val_acc: 0.8896\n",
            "Epoch 18/50\n",
            "114/114 [==============================] - 22s 195ms/step - loss: 0.0098 - acc: 0.9969 - val_loss: 0.5936 - val_acc: 0.8893\n",
            "Epoch 19/50\n",
            "114/114 [==============================] - 22s 196ms/step - loss: 0.0113 - acc: 0.9961 - val_loss: 0.5581 - val_acc: 0.8917\n",
            "Epoch 20/50\n",
            "114/114 [==============================] - 22s 194ms/step - loss: 0.0096 - acc: 0.9967 - val_loss: 0.6324 - val_acc: 0.8877\n",
            "Epoch 21/50\n",
            "114/114 [==============================] - 22s 197ms/step - loss: 0.0095 - acc: 0.9969 - val_loss: 0.6479 - val_acc: 0.8907\n",
            "Epoch 22/50\n",
            "114/114 [==============================] - 22s 196ms/step - loss: 0.0101 - acc: 0.9969 - val_loss: 0.5833 - val_acc: 0.8940\n",
            "Epoch 23/50\n",
            "114/114 [==============================] - 22s 197ms/step - loss: 0.0096 - acc: 0.9970 - val_loss: 0.6217 - val_acc: 0.8883\n",
            "Epoch 24/50\n",
            "114/114 [==============================] - 22s 195ms/step - loss: 0.0078 - acc: 0.9975 - val_loss: 0.6847 - val_acc: 0.8848\n",
            "Epoch 25/50\n",
            "114/114 [==============================] - 22s 195ms/step - loss: 0.0092 - acc: 0.9973 - val_loss: 0.5528 - val_acc: 0.8945\n",
            "Epoch 26/50\n",
            "114/114 [==============================] - 22s 195ms/step - loss: 0.0082 - acc: 0.9973 - val_loss: 0.7226 - val_acc: 0.8828\n",
            "Epoch 27/50\n",
            "114/114 [==============================] - 23s 197ms/step - loss: 0.0072 - acc: 0.9977 - val_loss: 0.6837 - val_acc: 0.8854\n",
            "Epoch 28/50\n",
            "114/114 [==============================] - 22s 197ms/step - loss: 0.0070 - acc: 0.9978 - val_loss: 0.7601 - val_acc: 0.8854\n",
            "Epoch 29/50\n",
            "114/114 [==============================] - 22s 196ms/step - loss: 0.0075 - acc: 0.9978 - val_loss: 0.7210 - val_acc: 0.8869\n",
            "Epoch 30/50\n",
            "114/114 [==============================] - 22s 194ms/step - loss: 0.0070 - acc: 0.9977 - val_loss: 0.6474 - val_acc: 0.8927\n",
            "Epoch 31/50\n",
            "114/114 [==============================] - 22s 194ms/step - loss: 0.0071 - acc: 0.9978 - val_loss: 0.7554 - val_acc: 0.8818\n",
            "Epoch 32/50\n",
            "114/114 [==============================] - 22s 197ms/step - loss: 0.0070 - acc: 0.9978 - val_loss: 0.6398 - val_acc: 0.8908\n",
            "Epoch 33/50\n",
            "114/114 [==============================] - 22s 194ms/step - loss: 0.0077 - acc: 0.9977 - val_loss: 0.6638 - val_acc: 0.8864\n",
            "Epoch 34/50\n",
            "114/114 [==============================] - 22s 197ms/step - loss: 0.0054 - acc: 0.9983 - val_loss: 0.6591 - val_acc: 0.8891\n",
            "Epoch 35/50\n",
            "114/114 [==============================] - 22s 197ms/step - loss: 0.0057 - acc: 0.9981 - val_loss: 0.7201 - val_acc: 0.8838\n",
            "Epoch 36/50\n",
            "114/114 [==============================] - 22s 194ms/step - loss: 0.0075 - acc: 0.9976 - val_loss: 0.6589 - val_acc: 0.8846\n",
            "Epoch 37/50\n",
            "114/114 [==============================] - 23s 198ms/step - loss: 0.0072 - acc: 0.9976 - val_loss: 0.5818 - val_acc: 0.8935\n",
            "Epoch 38/50\n",
            "114/114 [==============================] - 22s 195ms/step - loss: 0.0067 - acc: 0.9978 - val_loss: 0.6713 - val_acc: 0.8861\n",
            "Epoch 39/50\n",
            "114/114 [==============================] - 22s 194ms/step - loss: 0.0064 - acc: 0.9981 - val_loss: 0.6635 - val_acc: 0.8896\n",
            "Epoch 40/50\n",
            "114/114 [==============================] - 23s 198ms/step - loss: 0.0063 - acc: 0.9981 - val_loss: 0.6250 - val_acc: 0.8893\n",
            "Epoch 41/50\n",
            "114/114 [==============================] - 22s 197ms/step - loss: 0.0058 - acc: 0.9983 - val_loss: 0.6514 - val_acc: 0.8894\n",
            "Epoch 42/50\n",
            "114/114 [==============================] - 23s 200ms/step - loss: 0.0062 - acc: 0.9982 - val_loss: 0.6439 - val_acc: 0.8929\n",
            "Epoch 43/50\n",
            "114/114 [==============================] - 22s 195ms/step - loss: 0.0059 - acc: 0.9983 - val_loss: 0.7643 - val_acc: 0.8845\n",
            "Epoch 44/50\n",
            "114/114 [==============================] - 22s 192ms/step - loss: 0.0067 - acc: 0.9978 - val_loss: 0.7349 - val_acc: 0.8852\n",
            "Epoch 45/50\n",
            "114/114 [==============================] - 23s 197ms/step - loss: 0.0055 - acc: 0.9982 - val_loss: 0.7130 - val_acc: 0.8891\n",
            "Epoch 46/50\n",
            "114/114 [==============================] - 22s 194ms/step - loss: 0.0058 - acc: 0.9983 - val_loss: 0.7349 - val_acc: 0.8839\n",
            "Epoch 47/50\n",
            "114/114 [==============================] - 22s 193ms/step - loss: 0.0047 - acc: 0.9986 - val_loss: 0.6927 - val_acc: 0.8879\n",
            "Epoch 48/50\n",
            "114/114 [==============================] - 22s 197ms/step - loss: 0.0060 - acc: 0.9981 - val_loss: 0.7582 - val_acc: 0.8824\n",
            "Epoch 49/50\n",
            "114/114 [==============================] - 22s 194ms/step - loss: 0.0055 - acc: 0.9982 - val_loss: 0.7783 - val_acc: 0.8843\n",
            "Epoch 50/50\n",
            "114/114 [==============================] - 22s 194ms/step - loss: 0.0045 - acc: 0.9984 - val_loss: 0.7624 - val_acc: 0.8881\n"
          ],
          "name": "stdout"
        }
      ]
    },
    {
      "cell_type": "markdown",
      "metadata": {
        "id": "Qu4RfPQXJJWS",
        "colab_type": "text"
      },
      "source": [
        "## Grafik Data Pelatihan"
      ]
    },
    {
      "cell_type": "code",
      "metadata": {
        "id": "cr4T5jKSHiT-",
        "colab_type": "code",
        "colab": {
          "base_uri": "https://localhost:8080/",
          "height": 842
        },
        "outputId": "f1ea5f83-2d81-43f7-d906-234820e0df68"
      },
      "source": [
        "plt.plot(history.history[\"acc\"],label=\"Akurasi Pelatihan\")\n",
        "plt.plot(history.history[\"val_acc\"],label=\"Validasi Akurasi\")\n",
        "plt.legend()\n",
        "plt.show()\n",
        "\n",
        "plt.plot(history.history[\"loss\"],label=\"Kesalahan Pelatihan\")\n",
        "plt.plot(history.history[\"val_loss\"],label=\"Validasi Kesalahan\")\n",
        "plt.legend()\n",
        "plt.show()"
      ],
      "execution_count": 12,
      "outputs": [
        {
          "output_type": "display_data",
          "data": {
            "image/png": "[encoded data removed]",
            "text/plain": [
              "<Figure size 640x480 with 1 Axes>"
            ]
          },
          "metadata": {
            "tags": []
          }
        },
        {
          "output_type": "display_data",
          "data": {
            "image/png": "[encoded data removed]",
            "text/plain": [
              "<Figure size 640x480 with 1 Axes>"
            ]
          },
          "metadata": {
            "tags": []
          }
        }
      ]
    },
    {
      "cell_type": "code",
      "metadata": {
        "id": "C2KdKqZFxgvA",
        "colab_type": "code",
        "colab": {
          "base_uri": "https://localhost:8080/",
          "height": 34
        },
        "outputId": "c0d93419-28a7-4601-c5ba-22d981476d0d"
      },
      "source": [
        "print('Number of trainable variables = {}'.format(len(model.trainable_variables)))"
      ],
      "execution_count": 13,
      "outputs": [
        {
          "output_type": "stream",
          "text": [
            "Number of trainable variables = 10\n"
          ],
          "name": "stdout"
        }
      ]
    },
    {
      "cell_type": "markdown",
      "metadata": {
        "id": "QLmgPgJMwN5m",
        "colab_type": "text"
      },
      "source": [
        "## Menggunakan Model"
      ]
    },
    {
      "cell_type": "code",
      "metadata": {
        "id": "QfzV_FsuvyIF",
        "colab_type": "code",
        "colab": {
          "base_uri": "https://localhost:8080/",
          "height": 34
        },
        "outputId": "29ac0e04-ce03-4637-aa2f-d68774fde20f"
      },
      "source": [
        "print(train_generator)"
      ],
      "execution_count": 14,
      "outputs": [
        {
          "output_type": "stream",
          "text": [
            "<keras_preprocessing.image.directory_iterator.DirectoryIterator object at 0x7f8e18922320>\n"
          ],
          "name": "stdout"
        }
      ]
    },
    {
      "cell_type": "code",
      "metadata": {
        "id": "7RgBHC1fwacN",
        "colab_type": "code",
        "colab": {
          "base_uri": "https://localhost:8080/",
          "height": 86
        },
        "outputId": "4fe61f9e-9cf2-482e-d46f-d387dfef5d03"
      },
      "source": [
        "#Prediksi Label Validasi dengan Pelatihan\n",
        "n = 44\n",
        "input_image = image_batch[n][np.newaxis,...]\n",
        "print(\"Labelnya adalah: \", label_batch[n])\n",
        "\n",
        "predictions = model.predict(input_image)\n",
        "print(\"Prediksinya adalah\",predictions[0])"
      ],
      "execution_count": 15,
      "outputs": [
        {
          "output_type": "stream",
          "text": [
            "Labelnya adalah:  [0. 1. 0. 0. 0. 0. 0. 0. 0. 0.]\n",
            "Prediksinya adalah [1.18356875e-05 8.11272366e-06 4.81716324e-06 1.76321453e-04\n",
            " 1.63546094e-04 9.96241943e-06 1.25593433e-05 2.00246996e-06\n",
            " 6.92797403e-06 9.98762250e-01]\n"
          ],
          "name": "stdout"
        }
      ]
    },
    {
      "cell_type": "markdown",
      "metadata": {
        "id": "_NlIkTYKnMej",
        "colab_type": "text"
      },
      "source": [
        "Hasil tersebut merupakan hasil prediksi dari training dari 3 jenis data pelatihan yaitu jenis beras Cilamaya, IR 64, dan Ketan. Menggunakan inputan gambar dengan piksel 224 x 224, 1 filter dengan fungsi aktivasi relu, dan 1 layer output dengan fungsi aktivasi softmax"
      ]
    },
    {
      "cell_type": "markdown",
      "metadata": {
        "id": "J-8AG_vUJi6o",
        "colab_type": "text"
      },
      "source": [
        "# Evaluasi"
      ]
    },
    {
      "cell_type": "code",
      "metadata": {
        "id": "BsSWGwr6J6yr",
        "colab_type": "code",
        "colab": {
          "base_uri": "https://localhost:8080/",
          "height": 590
        },
        "outputId": "2f3f6e20-fc59-4d08-8221-aca7a3bf0825"
      },
      "source": [
        "#Memeriksa matriks model\n",
        "print(model.metrics_names)\n",
        "#Evaluasi data training\n",
        "print(model.evaluate(train_generator))\n",
        "#Evaluasi validasi data\n",
        "print(model.evaluate(val_generator))\n",
        "#Evaluasi data test\n",
        "print(model.evaluate(x= X_test3, y = y_test3)) "
      ],
      "execution_count": 16,
      "outputs": [
        {
          "output_type": "stream",
          "text": [
            "['loss', 'acc']\n",
            "WARNING:tensorflow:sample_weight modes were coerced from\n",
            "  ...\n",
            "    to  \n",
            "  ['...']\n",
            "114/114 [==============================] - 18s 155ms/step - loss: 0.7808 - acc: 0.8870\n",
            "[0.7807927832268832, 0.8870082]\n",
            "WARNING:tensorflow:sample_weight modes were coerced from\n",
            "  ...\n",
            "    to  \n",
            "  ['...']\n",
            "29/29 [==============================] - 5s 155ms/step - loss: 0.7624 - acc: 0.8881\n",
            "[0.7624055558237536, 0.888065]\n"
          ],
          "name": "stdout"
        },
        {
          "output_type": "error",
          "ename": "ValueError",
          "evalue": "ignored",
          "traceback": [
            "\u001b[0;31m---------------------------------------------------------------------------\u001b[0m",
            "\u001b[0;31mValueError\u001b[0m                                Traceback (most recent call last)",
            "\u001b[0;32m<ipython-input-16-0da3ee77b2c0>\u001b[0m in \u001b[0;36m<module>\u001b[0;34m()\u001b[0m\n\u001b[1;32m      5\u001b[0m \u001b[0mprint\u001b[0m\u001b[0;34m(\u001b[0m\u001b[0mmodel\u001b[0m\u001b[0;34m.\u001b[0m\u001b[0mevaluate\u001b[0m\u001b[0;34m(\u001b[0m\u001b[0mval_generator\u001b[0m\u001b[0;34m)\u001b[0m\u001b[0;34m)\u001b[0m\u001b[0;34m\u001b[0m\u001b[0;34m\u001b[0m\u001b[0m\n\u001b[1;32m      6\u001b[0m \u001b[0;31m#Evaluasi data test\u001b[0m\u001b[0;34m\u001b[0m\u001b[0;34m\u001b[0m\u001b[0;34m\u001b[0m\u001b[0m\n\u001b[0;32m----> 7\u001b[0;31m \u001b[0mprint\u001b[0m\u001b[0;34m(\u001b[0m\u001b[0mmodel\u001b[0m\u001b[0;34m.\u001b[0m\u001b[0mevaluate\u001b[0m\u001b[0;34m(\u001b[0m\u001b[0mx\u001b[0m\u001b[0;34m=\u001b[0m \u001b[0mX_test3\u001b[0m\u001b[0;34m,\u001b[0m \u001b[0my\u001b[0m \u001b[0;34m=\u001b[0m \u001b[0my_test3\u001b[0m\u001b[0;34m)\u001b[0m\u001b[0;34m)\u001b[0m\u001b[0;34m\u001b[0m\u001b[0;34m\u001b[0m\u001b[0m\n\u001b[0m",
            "\u001b[0;32m/tensorflow-2.1.0/python3.6/tensorflow_core/python/keras/engine/training.py\u001b[0m in \u001b[0;36mevaluate\u001b[0;34m(self, x, y, batch_size, verbose, sample_weight, steps, callbacks, max_queue_size, workers, use_multiprocessing)\u001b[0m\n\u001b[1;32m    928\u001b[0m         \u001b[0mmax_queue_size\u001b[0m\u001b[0;34m=\u001b[0m\u001b[0mmax_queue_size\u001b[0m\u001b[0;34m,\u001b[0m\u001b[0;34m\u001b[0m\u001b[0;34m\u001b[0m\u001b[0m\n\u001b[1;32m    929\u001b[0m         \u001b[0mworkers\u001b[0m\u001b[0;34m=\u001b[0m\u001b[0mworkers\u001b[0m\u001b[0;34m,\u001b[0m\u001b[0;34m\u001b[0m\u001b[0;34m\u001b[0m\u001b[0m\n\u001b[0;32m--> 930\u001b[0;31m         use_multiprocessing=use_multiprocessing)\n\u001b[0m\u001b[1;32m    931\u001b[0m \u001b[0;34m\u001b[0m\u001b[0m\n\u001b[1;32m    932\u001b[0m   def predict(self,\n",
            "\u001b[0;32m/tensorflow-2.1.0/python3.6/tensorflow_core/python/keras/engine/training_v2.py\u001b[0m in \u001b[0;36mevaluate\u001b[0;34m(self, model, x, y, batch_size, verbose, sample_weight, steps, callbacks, max_queue_size, workers, use_multiprocessing, **kwargs)\u001b[0m\n\u001b[1;32m    488\u001b[0m         \u001b[0msample_weight\u001b[0m\u001b[0;34m=\u001b[0m\u001b[0msample_weight\u001b[0m\u001b[0;34m,\u001b[0m \u001b[0msteps\u001b[0m\u001b[0;34m=\u001b[0m\u001b[0msteps\u001b[0m\u001b[0;34m,\u001b[0m \u001b[0mcallbacks\u001b[0m\u001b[0;34m=\u001b[0m\u001b[0mcallbacks\u001b[0m\u001b[0;34m,\u001b[0m\u001b[0;34m\u001b[0m\u001b[0;34m\u001b[0m\u001b[0m\n\u001b[1;32m    489\u001b[0m         \u001b[0mmax_queue_size\u001b[0m\u001b[0;34m=\u001b[0m\u001b[0mmax_queue_size\u001b[0m\u001b[0;34m,\u001b[0m \u001b[0mworkers\u001b[0m\u001b[0;34m=\u001b[0m\u001b[0mworkers\u001b[0m\u001b[0;34m,\u001b[0m\u001b[0;34m\u001b[0m\u001b[0;34m\u001b[0m\u001b[0m\n\u001b[0;32m--> 490\u001b[0;31m         use_multiprocessing=use_multiprocessing, **kwargs)\n\u001b[0m\u001b[1;32m    491\u001b[0m \u001b[0;34m\u001b[0m\u001b[0m\n\u001b[1;32m    492\u001b[0m   def predict(self, model, x, batch_size=None, verbose=0, steps=None,\n",
            "\u001b[0;32m/tensorflow-2.1.0/python3.6/tensorflow_core/python/keras/engine/training_v2.py\u001b[0m in \u001b[0;36m_model_iteration\u001b[0;34m(self, model, mode, x, y, batch_size, verbose, sample_weight, steps, callbacks, max_queue_size, workers, use_multiprocessing, **kwargs)\u001b[0m\n\u001b[1;32m    424\u001b[0m           \u001b[0mmax_queue_size\u001b[0m\u001b[0;34m=\u001b[0m\u001b[0mmax_queue_size\u001b[0m\u001b[0;34m,\u001b[0m\u001b[0;34m\u001b[0m\u001b[0;34m\u001b[0m\u001b[0m\n\u001b[1;32m    425\u001b[0m           \u001b[0mworkers\u001b[0m\u001b[0;34m=\u001b[0m\u001b[0mworkers\u001b[0m\u001b[0;34m,\u001b[0m\u001b[0;34m\u001b[0m\u001b[0;34m\u001b[0m\u001b[0m\n\u001b[0;32m--> 426\u001b[0;31m           use_multiprocessing=use_multiprocessing)\n\u001b[0m\u001b[1;32m    427\u001b[0m       \u001b[0mtotal_samples\u001b[0m \u001b[0;34m=\u001b[0m \u001b[0m_get_total_number_of_samples\u001b[0m\u001b[0;34m(\u001b[0m\u001b[0madapter\u001b[0m\u001b[0;34m)\u001b[0m\u001b[0;34m\u001b[0m\u001b[0;34m\u001b[0m\u001b[0m\n\u001b[1;32m    428\u001b[0m       \u001b[0muse_sample\u001b[0m \u001b[0;34m=\u001b[0m \u001b[0mtotal_samples\u001b[0m \u001b[0;32mis\u001b[0m \u001b[0;32mnot\u001b[0m \u001b[0;32mNone\u001b[0m\u001b[0;34m\u001b[0m\u001b[0;34m\u001b[0m\u001b[0m\n",
            "\u001b[0;32m/tensorflow-2.1.0/python3.6/tensorflow_core/python/keras/engine/training_v2.py\u001b[0m in \u001b[0;36m_process_inputs\u001b[0;34m(model, mode, x, y, batch_size, epochs, sample_weights, class_weights, shuffle, steps, distribution_strategy, max_queue_size, workers, use_multiprocessing)\u001b[0m\n\u001b[1;32m    644\u001b[0m     \u001b[0mstandardize_function\u001b[0m \u001b[0;34m=\u001b[0m \u001b[0;32mNone\u001b[0m\u001b[0;34m\u001b[0m\u001b[0;34m\u001b[0m\u001b[0m\n\u001b[1;32m    645\u001b[0m     x, y, sample_weights = standardize(\n\u001b[0;32m--> 646\u001b[0;31m         x, y, sample_weight=sample_weights)\n\u001b[0m\u001b[1;32m    647\u001b[0m   \u001b[0;32melif\u001b[0m \u001b[0madapter_cls\u001b[0m \u001b[0;32mis\u001b[0m \u001b[0mdata_adapter\u001b[0m\u001b[0;34m.\u001b[0m\u001b[0mListsOfScalarsDataAdapter\u001b[0m\u001b[0;34m:\u001b[0m\u001b[0;34m\u001b[0m\u001b[0;34m\u001b[0m\u001b[0m\n\u001b[1;32m    648\u001b[0m     \u001b[0mstandardize_function\u001b[0m \u001b[0;34m=\u001b[0m \u001b[0mstandardize\u001b[0m\u001b[0;34m\u001b[0m\u001b[0;34m\u001b[0m\u001b[0m\n",
            "\u001b[0;32m/tensorflow-2.1.0/python3.6/tensorflow_core/python/keras/engine/training.py\u001b[0m in \u001b[0;36m_standardize_user_data\u001b[0;34m(self, x, y, sample_weight, class_weight, batch_size, check_steps, steps_name, steps, validation_split, shuffle, extract_tensors_from_dataset)\u001b[0m\n\u001b[1;32m   2381\u001b[0m         \u001b[0mis_dataset\u001b[0m\u001b[0;34m=\u001b[0m\u001b[0mis_dataset\u001b[0m\u001b[0;34m,\u001b[0m\u001b[0;34m\u001b[0m\u001b[0;34m\u001b[0m\u001b[0m\n\u001b[1;32m   2382\u001b[0m         \u001b[0mclass_weight\u001b[0m\u001b[0;34m=\u001b[0m\u001b[0mclass_weight\u001b[0m\u001b[0;34m,\u001b[0m\u001b[0;34m\u001b[0m\u001b[0;34m\u001b[0m\u001b[0m\n\u001b[0;32m-> 2383\u001b[0;31m         batch_size=batch_size)\n\u001b[0m\u001b[1;32m   2384\u001b[0m \u001b[0;34m\u001b[0m\u001b[0m\n\u001b[1;32m   2385\u001b[0m   def _standardize_tensors(self, x, y, sample_weight, run_eagerly, dict_inputs,\n",
            "\u001b[0;32m/tensorflow-2.1.0/python3.6/tensorflow_core/python/keras/engine/training.py\u001b[0m in \u001b[0;36m_standardize_tensors\u001b[0;34m(self, x, y, sample_weight, run_eagerly, dict_inputs, is_dataset, class_weight, batch_size)\u001b[0m\n\u001b[1;32m   2487\u001b[0m           \u001b[0;31m# Additional checks to avoid users mistakenly using improper loss fns.\u001b[0m\u001b[0;34m\u001b[0m\u001b[0;34m\u001b[0m\u001b[0;34m\u001b[0m\u001b[0m\n\u001b[1;32m   2488\u001b[0m           training_utils.check_loss_and_target_compatibility(\n\u001b[0;32m-> 2489\u001b[0;31m               y, self._feed_loss_fns, feed_output_shapes)\n\u001b[0m\u001b[1;32m   2490\u001b[0m \u001b[0;34m\u001b[0m\u001b[0m\n\u001b[1;32m   2491\u001b[0m       sample_weights, _, _ = training_utils.handle_partial_sample_weights(\n",
            "\u001b[0;32m/tensorflow-2.1.0/python3.6/tensorflow_core/python/keras/engine/training_utils.py\u001b[0m in \u001b[0;36mcheck_loss_and_target_compatibility\u001b[0;34m(targets, loss_fns, output_shapes)\u001b[0m\n\u001b[1;32m    808\u001b[0m           raise ValueError('A target array with shape ' + str(y.shape) +\n\u001b[1;32m    809\u001b[0m                            \u001b[0;34m' was passed for an output of shape '\u001b[0m \u001b[0;34m+\u001b[0m \u001b[0mstr\u001b[0m\u001b[0;34m(\u001b[0m\u001b[0mshape\u001b[0m\u001b[0;34m)\u001b[0m \u001b[0;34m+\u001b[0m\u001b[0;34m\u001b[0m\u001b[0;34m\u001b[0m\u001b[0m\n\u001b[0;32m--> 810\u001b[0;31m                            \u001b[0;34m' while using as loss `'\u001b[0m \u001b[0;34m+\u001b[0m \u001b[0mloss_name\u001b[0m \u001b[0;34m+\u001b[0m \u001b[0;34m'`. '\u001b[0m\u001b[0;34m\u001b[0m\u001b[0;34m\u001b[0m\u001b[0m\n\u001b[0m\u001b[1;32m    811\u001b[0m                            \u001b[0;34m'This loss expects targets to have the same shape '\u001b[0m\u001b[0;34m\u001b[0m\u001b[0;34m\u001b[0m\u001b[0m\n\u001b[1;32m    812\u001b[0m                            'as the output.')\n",
            "\u001b[0;31mValueError\u001b[0m: A target array with shape (153, 4) was passed for an output of shape (None, 10) while using as loss `binary_crossentropy`. This loss expects targets to have the same shape as the output."
          ]
        }
      ]
    },
    {
      "cell_type": "code",
      "metadata": {
        "id": "FuIQXxs7J9YF",
        "colab_type": "code",
        "colab": {}
      },
      "source": [
        "#Menampilkan matriks yang benar dan matriks hasil prediksi\n",
        "\n",
        "#Label yang benar\n",
        "y_true = np.argmax(y_test2,axis=1)\n",
        "\n",
        "#Label prediksi\n",
        "Y_pred = model.predict(X_test)\n",
        "y_pred = np.argmax(Y_pred, axis=1)\n",
        "\n",
        "print(y_true)\n",
        "print(y_pred)"
      ],
      "execution_count": 0,
      "outputs": []
    },
    {
      "cell_type": "markdown",
      "metadata": {
        "id": "A7EbbjTEJmPs",
        "colab_type": "text"
      },
      "source": [
        "## Prediksi Gambar Individual"
      ]
    },
    {
      "cell_type": "code",
      "metadata": {
        "id": "jtXbaxUoJwIs",
        "colab_type": "code",
        "colab": {}
      },
      "source": [
        "n = 44 #Jangan melampaui (nilai dari gambar test - 1)\n",
        "\n",
        "plt.imshow(X_test[n])\n",
        "plt.show()\n",
        "\n",
        "true_label = np.argmax(y_test2,axis=1)[n]\n",
        "print(\"Label yang benar adalah:\",true_label,\":\",labels[true_label])\n",
        "prediction = model.predict(X_test[n][np.newaxis,...])[0]\n",
        "print(\"Nilai yang diprediksi adalah:\",prediction)\n",
        "predicted_label = np.argmax(prediction)\n",
        "print(\"Label yang diprediksi adalah:\",predicted_label,\":\",labels[predicted_label])\n",
        "\n",
        "if true_label == predicted_label:\n",
        "    print(\"Prediksi benar\")\n",
        "else:\n",
        "    print(\"Prediksi salah\")"
      ],
      "execution_count": 0,
      "outputs": []
    },
    {
      "cell_type": "markdown",
      "metadata": {
        "id": "r7ORE_1reP6J",
        "colab_type": "text"
      },
      "source": [
        "## *Confusion Matrix*"
      ]
    },
    {
      "cell_type": "code",
      "metadata": {
        "id": "GD-gesx5eWrP",
        "colab_type": "code",
        "colab": {}
      },
      "source": [
        "from sklearn.metrics import confusion_matrix\n",
        "from sklearn.utils.multiclass import unique_labels\n",
        "\n",
        "def plot_confusion_matrix(y_true, y_pred, classes,\n",
        "                          normalize=False,\n",
        "                          title=None,\n",
        "                          cmap=plt.cm.Blues):\n",
        "    \"\"\"\n",
        "    This function prints and plots the confusion matrix.\n",
        "    Normalization can be applied by setting `normalize=True`.\n",
        "    \"\"\"\n",
        "    if not title:\n",
        "        if normalize:\n",
        "            title = 'Normalized confusion matrix'\n",
        "        else:\n",
        "            title = 'Confusion matrix, without normalization'\n",
        "\n",
        "    # Compute confusion matrix\n",
        "    cm = confusion_matrix(y_true, y_pred)\n",
        "    # Only use the labels that appear in the data\n",
        "    #classes = classes[unique_labels(y_true, y_pred)]\n",
        "    if normalize:\n",
        "        cm = cm.astype('float') / cm.sum(axis=1)[:, np.newaxis]\n",
        "        print(\"Normalized confusion matrix\")\n",
        "    else:\n",
        "        print('Confusion matrix, without normalization')\n",
        "\n",
        "    print(cm)\n",
        "\n",
        "    fig, ax = plt.subplots(figsize=(5,5))\n",
        "    im = ax.imshow(cm, interpolation='nearest', cmap=cmap)\n",
        "    #ax.figure.colorbar(im, ax=ax)\n",
        "    # We want to show all ticks...\n",
        "    ax.set(xticks=np.arange(cm.shape[1]),\n",
        "           yticks=np.arange(cm.shape[0]),\n",
        "           # ... and label them with the respective list entries\n",
        "           xticklabels=classes, yticklabels=classes,\n",
        "           title=title,\n",
        "           ylabel='Label Benar',\n",
        "           xlabel='Label Prediksi')\n",
        "\n",
        "    # Rotate the tick labels and set their alignment.\n",
        "    plt.setp(ax.get_xticklabels(), rotation=45, ha=\"right\",\n",
        "             rotation_mode=\"anchor\")\n",
        "\n",
        "    # Loop over data dimensions and create text annotations.\n",
        "    fmt = '.2f' if normalize else 'd'\n",
        "    thresh = cm.max() / 2.\n",
        "    for i in range(cm.shape[0]):\n",
        "        for j in range(cm.shape[1]):\n",
        "            ax.text(j, i, format(cm[i, j], fmt),\n",
        "                    ha=\"center\", va=\"center\",\n",
        "                    color=\"white\" if cm[i, j] > thresh else \"black\")\n",
        "    fig.tight_layout()\n",
        "    return ax\n",
        "\n",
        "\n",
        "np.set_printoptions(precision=2)\n",
        "\n",
        "plot_confusion_matrix(y_true, y_pred, classes=labels, normalize=True,\n",
        "                      title='Normalized confusion matrix')"
      ],
      "execution_count": 0,
      "outputs": []
    },
    {
      "cell_type": "markdown",
      "metadata": {
        "id": "mwebZKdOiXvQ",
        "colab_type": "text"
      },
      "source": [
        "# Menyimpan dan Konversi ke \".tflite\""
      ]
    },
    {
      "cell_type": "markdown",
      "metadata": {
        "id": "3lLh9E8riyYZ",
        "colab_type": "text"
      },
      "source": [
        "Menyimpan model menggunakan tf.saved_model.save dan kemudian mengonversi model tersimpan ke format yang kompatibel tf lite."
      ]
    },
    {
      "cell_type": "code",
      "metadata": {
        "id": "G6Qxay0ei0jm",
        "colab_type": "code",
        "colab": {}
      },
      "source": [
        "saved_model_dir = 'save/model'\n",
        "tf.saved_model.save(model, saved_model_dir)\n",
        "\n",
        "converter = tf.lite.TFLiteConverter.from_saved_model(saved_model_dir)\n",
        "tflite_model = converter.convert()\n",
        "\n",
        "with open('Klasifikasi_3_Jenis_Beras.tflite', 'wb') as f:\n",
        "  f.write(tflite_model)"
      ],
      "execution_count": 0,
      "outputs": []
    }
  ]
}